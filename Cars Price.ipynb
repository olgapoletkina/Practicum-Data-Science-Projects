{
 "cells": [
  {
   "cell_type": "markdown",
   "metadata": {},
   "source": [
    "# Cars price"
   ]
  },
  {
   "cell_type": "markdown",
   "metadata": {},
   "source": [
    "## Data preparation"
   ]
  },
  {
   "cell_type": "markdown",
   "metadata": {},
   "source": [
    "### Libraries"
   ]
  },
  {
   "cell_type": "code",
   "execution_count": 1,
   "metadata": {},
   "outputs": [],
   "source": [
    "# !pip install fast_ml\n",
    "# !pip install lightgbm "
   ]
  },
  {
   "cell_type": "code",
   "execution_count": 2,
   "metadata": {},
   "outputs": [],
   "source": [
    "import pandas as pd\n",
    "import numpy as np\n",
    "import math\n",
    "\n",
    "from datetime import datetime\n",
    "\n",
    "from scipy.spatial.distance import pdist, squareform\n",
    "\n",
    "from fast_ml.model_development import train_valid_test_split\n",
    "from sklearn.model_selection import GridSearchCV\n",
    "from sklearn.model_selection import RandomizedSearchCV\n",
    "from sklearn.metrics import mean_squared_error, make_scorer\n",
    "\n",
    "from sklearn.preprocessing import StandardScaler\n",
    "from sklearn.preprocessing import OneHotEncoder\n",
    "\n",
    "from sklearn.linear_model import LinearRegression\n",
    "from sklearn.ensemble import RandomForestRegressor\n",
    "\n",
    "from catboost import CatBoostRegressor\n",
    "\n",
    "import phik\n",
    "from phik.report import plot_correlation_matrix\n",
    "from phik import report\n",
    "\n",
    "import seaborn as sns \n",
    "import plotly.express as px\n",
    "import matplotlib.pyplot as plt\n",
    "\n",
    "import warnings\n",
    "\n",
    "import lightgbm as lgb\n",
    "from lightgbm import LGBMRegressor"
   ]
  },
  {
   "cell_type": "code",
   "execution_count": 3,
   "metadata": {},
   "outputs": [],
   "source": [
    "state = 42"
   ]
  },
  {
   "cell_type": "markdown",
   "metadata": {},
   "source": [
    "### Data"
   ]
  },
  {
   "cell_type": "code",
   "execution_count": 4,
   "metadata": {},
   "outputs": [],
   "source": [
    "try:\n",
    "    data = pd.read_csv(r'C:\\Users\\olga.poletkina\\OneDrive - HPP Architekten GmbH\\GitHub\\Practicum_Data_Science\\datasets\\autos.csv')\n",
    "except:\n",
    "    data = pd.read_csv('/datasets/autos.csv')\n",
    "    \n",
    "data_initial = data.copy()"
   ]
  },
  {
   "cell_type": "markdown",
   "metadata": {
    "lang": "en"
   },
   "source": [
    "### Data analysis"
   ]
  },
  {
   "cell_type": "code",
   "execution_count": 5,
   "metadata": {},
   "outputs": [],
   "source": [
    "separation_line = '------------------------------------------------------------------------------------------------------'\n",
    "\n",
    "def data_check(df):\n",
    "    df.info()\n",
    "    print(separation_line)\n",
    "    print('Comtlete duplicates = ', df.duplicated().sum())\n",
    "    print(separation_line)\n",
    "    print('NaNs by columns:')\n",
    "    display(df.isna().sum())\n",
    "    print(separation_line)\n",
    "    print('Total NaNs:')\n",
    "    display(df.isna().sum().sum())\n",
    "    print(separation_line)\n",
    "    display(df.describe())\n",
    "    print(separation_line)\n",
    "    print('Data types:')\n",
    "    display(df.columns.to_series().groupby(df.dtypes).groups)"
   ]
  },
  {
   "cell_type": "code",
   "execution_count": 6,
   "metadata": {},
   "outputs": [
    {
     "name": "stdout",
     "output_type": "stream",
     "text": [
      "<class 'pandas.core.frame.DataFrame'>\n",
      "RangeIndex: 354369 entries, 0 to 354368\n",
      "Data columns (total 16 columns):\n",
      " #   Column             Non-Null Count   Dtype \n",
      "---  ------             --------------   ----- \n",
      " 0   DateCrawled        354369 non-null  object\n",
      " 1   Price              354369 non-null  int64 \n",
      " 2   VehicleType        316879 non-null  object\n",
      " 3   RegistrationYear   354369 non-null  int64 \n",
      " 4   Gearbox            334536 non-null  object\n",
      " 5   Power              354369 non-null  int64 \n",
      " 6   Model              334664 non-null  object\n",
      " 7   Kilometer          354369 non-null  int64 \n",
      " 8   RegistrationMonth  354369 non-null  int64 \n",
      " 9   FuelType           321474 non-null  object\n",
      " 10  Brand              354369 non-null  object\n",
      " 11  Repaired           283215 non-null  object\n",
      " 12  DateCreated        354369 non-null  object\n",
      " 13  NumberOfPictures   354369 non-null  int64 \n",
      " 14  PostalCode         354369 non-null  int64 \n",
      " 15  LastSeen           354369 non-null  object\n",
      "dtypes: int64(7), object(9)\n",
      "memory usage: 43.3+ MB\n",
      "------------------------------------------------------------------------------------------------------\n",
      "Comtlete duplicates =  4\n",
      "------------------------------------------------------------------------------------------------------\n",
      "NaNs by columns:\n"
     ]
    },
    {
     "data": {
      "text/plain": [
       "DateCrawled              0\n",
       "Price                    0\n",
       "VehicleType          37490\n",
       "RegistrationYear         0\n",
       "Gearbox              19833\n",
       "Power                    0\n",
       "Model                19705\n",
       "Kilometer                0\n",
       "RegistrationMonth        0\n",
       "FuelType             32895\n",
       "Brand                    0\n",
       "Repaired             71154\n",
       "DateCreated              0\n",
       "NumberOfPictures         0\n",
       "PostalCode               0\n",
       "LastSeen                 0\n",
       "dtype: int64"
      ]
     },
     "metadata": {},
     "output_type": "display_data"
    },
    {
     "name": "stdout",
     "output_type": "stream",
     "text": [
      "------------------------------------------------------------------------------------------------------\n",
      "Total NaNs:\n"
     ]
    },
    {
     "data": {
      "text/plain": [
       "181077"
      ]
     },
     "metadata": {},
     "output_type": "display_data"
    },
    {
     "name": "stdout",
     "output_type": "stream",
     "text": [
      "------------------------------------------------------------------------------------------------------\n"
     ]
    },
    {
     "data": {
      "text/html": [
       "<div>\n",
       "<style scoped>\n",
       "    .dataframe tbody tr th:only-of-type {\n",
       "        vertical-align: middle;\n",
       "    }\n",
       "\n",
       "    .dataframe tbody tr th {\n",
       "        vertical-align: top;\n",
       "    }\n",
       "\n",
       "    .dataframe thead th {\n",
       "        text-align: right;\n",
       "    }\n",
       "</style>\n",
       "<table border=\"1\" class=\"dataframe\">\n",
       "  <thead>\n",
       "    <tr style=\"text-align: right;\">\n",
       "      <th></th>\n",
       "      <th>Price</th>\n",
       "      <th>RegistrationYear</th>\n",
       "      <th>Power</th>\n",
       "      <th>Kilometer</th>\n",
       "      <th>RegistrationMonth</th>\n",
       "      <th>NumberOfPictures</th>\n",
       "      <th>PostalCode</th>\n",
       "    </tr>\n",
       "  </thead>\n",
       "  <tbody>\n",
       "    <tr>\n",
       "      <th>count</th>\n",
       "      <td>354369.000000</td>\n",
       "      <td>354369.000000</td>\n",
       "      <td>354369.000000</td>\n",
       "      <td>354369.000000</td>\n",
       "      <td>354369.000000</td>\n",
       "      <td>354369.0</td>\n",
       "      <td>354369.000000</td>\n",
       "    </tr>\n",
       "    <tr>\n",
       "      <th>mean</th>\n",
       "      <td>4416.656776</td>\n",
       "      <td>2004.234448</td>\n",
       "      <td>110.094337</td>\n",
       "      <td>128211.172535</td>\n",
       "      <td>5.714645</td>\n",
       "      <td>0.0</td>\n",
       "      <td>50508.689087</td>\n",
       "    </tr>\n",
       "    <tr>\n",
       "      <th>std</th>\n",
       "      <td>4514.158514</td>\n",
       "      <td>90.227958</td>\n",
       "      <td>189.850405</td>\n",
       "      <td>37905.341530</td>\n",
       "      <td>3.726421</td>\n",
       "      <td>0.0</td>\n",
       "      <td>25783.096248</td>\n",
       "    </tr>\n",
       "    <tr>\n",
       "      <th>min</th>\n",
       "      <td>0.000000</td>\n",
       "      <td>1000.000000</td>\n",
       "      <td>0.000000</td>\n",
       "      <td>5000.000000</td>\n",
       "      <td>0.000000</td>\n",
       "      <td>0.0</td>\n",
       "      <td>1067.000000</td>\n",
       "    </tr>\n",
       "    <tr>\n",
       "      <th>25%</th>\n",
       "      <td>1050.000000</td>\n",
       "      <td>1999.000000</td>\n",
       "      <td>69.000000</td>\n",
       "      <td>125000.000000</td>\n",
       "      <td>3.000000</td>\n",
       "      <td>0.0</td>\n",
       "      <td>30165.000000</td>\n",
       "    </tr>\n",
       "    <tr>\n",
       "      <th>50%</th>\n",
       "      <td>2700.000000</td>\n",
       "      <td>2003.000000</td>\n",
       "      <td>105.000000</td>\n",
       "      <td>150000.000000</td>\n",
       "      <td>6.000000</td>\n",
       "      <td>0.0</td>\n",
       "      <td>49413.000000</td>\n",
       "    </tr>\n",
       "    <tr>\n",
       "      <th>75%</th>\n",
       "      <td>6400.000000</td>\n",
       "      <td>2008.000000</td>\n",
       "      <td>143.000000</td>\n",
       "      <td>150000.000000</td>\n",
       "      <td>9.000000</td>\n",
       "      <td>0.0</td>\n",
       "      <td>71083.000000</td>\n",
       "    </tr>\n",
       "    <tr>\n",
       "      <th>max</th>\n",
       "      <td>20000.000000</td>\n",
       "      <td>9999.000000</td>\n",
       "      <td>20000.000000</td>\n",
       "      <td>150000.000000</td>\n",
       "      <td>12.000000</td>\n",
       "      <td>0.0</td>\n",
       "      <td>99998.000000</td>\n",
       "    </tr>\n",
       "  </tbody>\n",
       "</table>\n",
       "</div>"
      ],
      "text/plain": [
       "               Price  RegistrationYear          Power      Kilometer  \\\n",
       "count  354369.000000     354369.000000  354369.000000  354369.000000   \n",
       "mean     4416.656776       2004.234448     110.094337  128211.172535   \n",
       "std      4514.158514         90.227958     189.850405   37905.341530   \n",
       "min         0.000000       1000.000000       0.000000    5000.000000   \n",
       "25%      1050.000000       1999.000000      69.000000  125000.000000   \n",
       "50%      2700.000000       2003.000000     105.000000  150000.000000   \n",
       "75%      6400.000000       2008.000000     143.000000  150000.000000   \n",
       "max     20000.000000       9999.000000   20000.000000  150000.000000   \n",
       "\n",
       "       RegistrationMonth  NumberOfPictures     PostalCode  \n",
       "count      354369.000000          354369.0  354369.000000  \n",
       "mean            5.714645               0.0   50508.689087  \n",
       "std             3.726421               0.0   25783.096248  \n",
       "min             0.000000               0.0    1067.000000  \n",
       "25%             3.000000               0.0   30165.000000  \n",
       "50%             6.000000               0.0   49413.000000  \n",
       "75%             9.000000               0.0   71083.000000  \n",
       "max            12.000000               0.0   99998.000000  "
      ]
     },
     "metadata": {},
     "output_type": "display_data"
    },
    {
     "name": "stdout",
     "output_type": "stream",
     "text": [
      "------------------------------------------------------------------------------------------------------\n",
      "Data types:\n"
     ]
    },
    {
     "data": {
      "text/plain": [
       "{int64: ['Price', 'RegistrationYear', 'Power', 'Kilometer', 'RegistrationMonth', 'NumberOfPictures', 'PostalCode'], object: ['DateCrawled', 'VehicleType', 'Gearbox', 'Model', 'FuelType', 'Brand', 'Repaired', 'DateCreated', 'LastSeen']}"
      ]
     },
     "metadata": {},
     "output_type": "display_data"
    }
   ],
   "source": [
    "data_check(data)"
   ]
  },
  {
   "cell_type": "code",
   "execution_count": 7,
   "metadata": {},
   "outputs": [],
   "source": [
    "data = data.drop_duplicates()"
   ]
  },
  {
   "cell_type": "code",
   "execution_count": 8,
   "metadata": {
    "scrolled": true
   },
   "outputs": [
    {
     "data": {
      "text/html": [
       "<div>\n",
       "<style scoped>\n",
       "    .dataframe tbody tr th:only-of-type {\n",
       "        vertical-align: middle;\n",
       "    }\n",
       "\n",
       "    .dataframe tbody tr th {\n",
       "        vertical-align: top;\n",
       "    }\n",
       "\n",
       "    .dataframe thead th {\n",
       "        text-align: right;\n",
       "    }\n",
       "</style>\n",
       "<table border=\"1\" class=\"dataframe\">\n",
       "  <thead>\n",
       "    <tr style=\"text-align: right;\">\n",
       "      <th></th>\n",
       "      <th>date_crawled</th>\n",
       "      <th>price</th>\n",
       "      <th>vehicle_type</th>\n",
       "      <th>registration_year</th>\n",
       "      <th>gearbox</th>\n",
       "      <th>power</th>\n",
       "      <th>model</th>\n",
       "      <th>kilometer</th>\n",
       "      <th>registration_month</th>\n",
       "      <th>fuel_type</th>\n",
       "      <th>brand</th>\n",
       "      <th>repaired</th>\n",
       "      <th>date_created</th>\n",
       "      <th>number_of_pictures</th>\n",
       "      <th>postal_code</th>\n",
       "      <th>last_seen</th>\n",
       "    </tr>\n",
       "  </thead>\n",
       "  <tbody>\n",
       "    <tr>\n",
       "      <th>0</th>\n",
       "      <td>2016-03-24 11:52:17</td>\n",
       "      <td>480</td>\n",
       "      <td>NaN</td>\n",
       "      <td>1993</td>\n",
       "      <td>manual</td>\n",
       "      <td>0</td>\n",
       "      <td>golf</td>\n",
       "      <td>150000</td>\n",
       "      <td>0</td>\n",
       "      <td>petrol</td>\n",
       "      <td>volkswagen</td>\n",
       "      <td>NaN</td>\n",
       "      <td>2016-03-24 00:00:00</td>\n",
       "      <td>0</td>\n",
       "      <td>70435</td>\n",
       "      <td>2016-04-07 03:16:57</td>\n",
       "    </tr>\n",
       "    <tr>\n",
       "      <th>1</th>\n",
       "      <td>2016-03-24 10:58:45</td>\n",
       "      <td>18300</td>\n",
       "      <td>coupe</td>\n",
       "      <td>2011</td>\n",
       "      <td>manual</td>\n",
       "      <td>190</td>\n",
       "      <td>NaN</td>\n",
       "      <td>125000</td>\n",
       "      <td>5</td>\n",
       "      <td>gasoline</td>\n",
       "      <td>audi</td>\n",
       "      <td>yes</td>\n",
       "      <td>2016-03-24 00:00:00</td>\n",
       "      <td>0</td>\n",
       "      <td>66954</td>\n",
       "      <td>2016-04-07 01:46:50</td>\n",
       "    </tr>\n",
       "    <tr>\n",
       "      <th>2</th>\n",
       "      <td>2016-03-14 12:52:21</td>\n",
       "      <td>9800</td>\n",
       "      <td>suv</td>\n",
       "      <td>2004</td>\n",
       "      <td>auto</td>\n",
       "      <td>163</td>\n",
       "      <td>grand</td>\n",
       "      <td>125000</td>\n",
       "      <td>8</td>\n",
       "      <td>gasoline</td>\n",
       "      <td>jeep</td>\n",
       "      <td>NaN</td>\n",
       "      <td>2016-03-14 00:00:00</td>\n",
       "      <td>0</td>\n",
       "      <td>90480</td>\n",
       "      <td>2016-04-05 12:47:46</td>\n",
       "    </tr>\n",
       "    <tr>\n",
       "      <th>3</th>\n",
       "      <td>2016-03-17 16:54:04</td>\n",
       "      <td>1500</td>\n",
       "      <td>small</td>\n",
       "      <td>2001</td>\n",
       "      <td>manual</td>\n",
       "      <td>75</td>\n",
       "      <td>golf</td>\n",
       "      <td>150000</td>\n",
       "      <td>6</td>\n",
       "      <td>petrol</td>\n",
       "      <td>volkswagen</td>\n",
       "      <td>no</td>\n",
       "      <td>2016-03-17 00:00:00</td>\n",
       "      <td>0</td>\n",
       "      <td>91074</td>\n",
       "      <td>2016-03-17 17:40:17</td>\n",
       "    </tr>\n",
       "    <tr>\n",
       "      <th>4</th>\n",
       "      <td>2016-03-31 17:25:20</td>\n",
       "      <td>3600</td>\n",
       "      <td>small</td>\n",
       "      <td>2008</td>\n",
       "      <td>manual</td>\n",
       "      <td>69</td>\n",
       "      <td>fabia</td>\n",
       "      <td>90000</td>\n",
       "      <td>7</td>\n",
       "      <td>gasoline</td>\n",
       "      <td>skoda</td>\n",
       "      <td>no</td>\n",
       "      <td>2016-03-31 00:00:00</td>\n",
       "      <td>0</td>\n",
       "      <td>60437</td>\n",
       "      <td>2016-04-06 10:17:21</td>\n",
       "    </tr>\n",
       "  </tbody>\n",
       "</table>\n",
       "</div>"
      ],
      "text/plain": [
       "          date_crawled  price vehicle_type  registration_year gearbox  power  \\\n",
       "0  2016-03-24 11:52:17    480          NaN               1993  manual      0   \n",
       "1  2016-03-24 10:58:45  18300        coupe               2011  manual    190   \n",
       "2  2016-03-14 12:52:21   9800          suv               2004    auto    163   \n",
       "3  2016-03-17 16:54:04   1500        small               2001  manual     75   \n",
       "4  2016-03-31 17:25:20   3600        small               2008  manual     69   \n",
       "\n",
       "   model  kilometer  registration_month fuel_type       brand repaired  \\\n",
       "0   golf     150000                   0    petrol  volkswagen      NaN   \n",
       "1    NaN     125000                   5  gasoline        audi      yes   \n",
       "2  grand     125000                   8  gasoline        jeep      NaN   \n",
       "3   golf     150000                   6    petrol  volkswagen       no   \n",
       "4  fabia      90000                   7  gasoline       skoda       no   \n",
       "\n",
       "          date_created  number_of_pictures  postal_code            last_seen  \n",
       "0  2016-03-24 00:00:00                   0        70435  2016-04-07 03:16:57  \n",
       "1  2016-03-24 00:00:00                   0        66954  2016-04-07 01:46:50  \n",
       "2  2016-03-14 00:00:00                   0        90480  2016-04-05 12:47:46  \n",
       "3  2016-03-17 00:00:00                   0        91074  2016-03-17 17:40:17  \n",
       "4  2016-03-31 00:00:00                   0        60437  2016-04-06 10:17:21  "
      ]
     },
     "execution_count": 8,
     "metadata": {},
     "output_type": "execute_result"
    }
   ],
   "source": [
    "def add_underscore(name):\n",
    "    new_name = ''\n",
    "    for i, char in enumerate(name):\n",
    "        if i > 0 and char.isupper() and name[i-1].islower():\n",
    "            new_name += '_'\n",
    "        new_name += char\n",
    "    return new_name\n",
    "\n",
    "new_columns = {col: add_underscore(col) for col in data.columns}\n",
    "data = data.rename(columns=new_columns)\n",
    "data.columns = data.columns.str.strip().str.lower()\n",
    "data.head()"
   ]
  },
  {
   "cell_type": "markdown",
   "metadata": {},
   "source": [
    "### Features distribution, missing values."
   ]
  },
  {
   "cell_type": "markdown",
   "metadata": {},
   "source": [
    "**Remove the column 'number_of_pictures' that contains only zeros**"
   ]
  },
  {
   "cell_type": "code",
   "execution_count": 9,
   "metadata": {},
   "outputs": [
    {
     "data": {
      "text/plain": [
       "array([0], dtype=int64)"
      ]
     },
     "execution_count": 9,
     "metadata": {},
     "output_type": "execute_result"
    }
   ],
   "source": [
    "data['number_of_pictures'].unique()"
   ]
  },
  {
   "cell_type": "code",
   "execution_count": 10,
   "metadata": {},
   "outputs": [],
   "source": [
    "data = data.drop(columns=['number_of_pictures'])"
   ]
  },
  {
   "cell_type": "code",
   "execution_count": 11,
   "metadata": {},
   "outputs": [],
   "source": [
    "data = data.drop(columns=['postal_code', 'last_seen', 'date_crawled', 'date_created'])"
   ]
  },
  {
   "cell_type": "code",
   "execution_count": 12,
   "metadata": {},
   "outputs": [
    {
     "data": {
      "text/plain": [
       "{int64: ['price', 'registration_year', 'power', 'kilometer', 'registration_month'], object: ['vehicle_type', 'gearbox', 'model', 'fuel_type', 'brand', 'repaired']}"
      ]
     },
     "execution_count": 12,
     "metadata": {},
     "output_type": "execute_result"
    }
   ],
   "source": [
    "data.columns.to_series().groupby(data.dtypes).groups"
   ]
  },
  {
   "cell_type": "markdown",
   "metadata": {},
   "source": [
    "**Features correlation**"
   ]
  },
  {
   "cell_type": "code",
   "execution_count": 13,
   "metadata": {},
   "outputs": [
    {
     "data": {
      "text/html": [
       "<div>\n",
       "<style scoped>\n",
       "    .dataframe tbody tr th:only-of-type {\n",
       "        vertical-align: middle;\n",
       "    }\n",
       "\n",
       "    .dataframe tbody tr th {\n",
       "        vertical-align: top;\n",
       "    }\n",
       "\n",
       "    .dataframe thead th {\n",
       "        text-align: right;\n",
       "    }\n",
       "</style>\n",
       "<table border=\"1\" class=\"dataframe\">\n",
       "  <thead>\n",
       "    <tr style=\"text-align: right;\">\n",
       "      <th></th>\n",
       "      <th>price</th>\n",
       "      <th>registration_year</th>\n",
       "      <th>power</th>\n",
       "      <th>kilometer</th>\n",
       "      <th>registration_month</th>\n",
       "      <th>vehicle_type</th>\n",
       "      <th>gearbox</th>\n",
       "      <th>model</th>\n",
       "      <th>fuel_type</th>\n",
       "      <th>brand</th>\n",
       "      <th>repaired</th>\n",
       "    </tr>\n",
       "  </thead>\n",
       "  <tbody>\n",
       "    <tr>\n",
       "      <th>0</th>\n",
       "      <td>480</td>\n",
       "      <td>1993</td>\n",
       "      <td>0</td>\n",
       "      <td>150000</td>\n",
       "      <td>0</td>\n",
       "      <td>NaN</td>\n",
       "      <td>manual</td>\n",
       "      <td>golf</td>\n",
       "      <td>petrol</td>\n",
       "      <td>volkswagen</td>\n",
       "      <td>NaN</td>\n",
       "    </tr>\n",
       "    <tr>\n",
       "      <th>1</th>\n",
       "      <td>18300</td>\n",
       "      <td>2011</td>\n",
       "      <td>190</td>\n",
       "      <td>125000</td>\n",
       "      <td>5</td>\n",
       "      <td>coupe</td>\n",
       "      <td>manual</td>\n",
       "      <td>NaN</td>\n",
       "      <td>gasoline</td>\n",
       "      <td>audi</td>\n",
       "      <td>yes</td>\n",
       "    </tr>\n",
       "    <tr>\n",
       "      <th>2</th>\n",
       "      <td>9800</td>\n",
       "      <td>2004</td>\n",
       "      <td>163</td>\n",
       "      <td>125000</td>\n",
       "      <td>8</td>\n",
       "      <td>suv</td>\n",
       "      <td>auto</td>\n",
       "      <td>grand</td>\n",
       "      <td>gasoline</td>\n",
       "      <td>jeep</td>\n",
       "      <td>NaN</td>\n",
       "    </tr>\n",
       "    <tr>\n",
       "      <th>3</th>\n",
       "      <td>1500</td>\n",
       "      <td>2001</td>\n",
       "      <td>75</td>\n",
       "      <td>150000</td>\n",
       "      <td>6</td>\n",
       "      <td>small</td>\n",
       "      <td>manual</td>\n",
       "      <td>golf</td>\n",
       "      <td>petrol</td>\n",
       "      <td>volkswagen</td>\n",
       "      <td>no</td>\n",
       "    </tr>\n",
       "    <tr>\n",
       "      <th>4</th>\n",
       "      <td>3600</td>\n",
       "      <td>2008</td>\n",
       "      <td>69</td>\n",
       "      <td>90000</td>\n",
       "      <td>7</td>\n",
       "      <td>small</td>\n",
       "      <td>manual</td>\n",
       "      <td>fabia</td>\n",
       "      <td>gasoline</td>\n",
       "      <td>skoda</td>\n",
       "      <td>no</td>\n",
       "    </tr>\n",
       "  </tbody>\n",
       "</table>\n",
       "</div>"
      ],
      "text/plain": [
       "   price  registration_year  power  kilometer  registration_month  \\\n",
       "0    480               1993      0     150000                   0   \n",
       "1  18300               2011    190     125000                   5   \n",
       "2   9800               2004    163     125000                   8   \n",
       "3   1500               2001     75     150000                   6   \n",
       "4   3600               2008     69      90000                   7   \n",
       "\n",
       "  vehicle_type gearbox  model fuel_type       brand repaired  \n",
       "0          NaN  manual   golf    petrol  volkswagen      NaN  \n",
       "1        coupe  manual    NaN  gasoline        audi      yes  \n",
       "2          suv    auto  grand  gasoline        jeep      NaN  \n",
       "3        small  manual   golf    petrol  volkswagen       no  \n",
       "4        small  manual  fabia  gasoline       skoda       no  "
      ]
     },
     "execution_count": 13,
     "metadata": {},
     "output_type": "execute_result"
    }
   ],
   "source": [
    "columns_info = ['price', 'registration_year', 'power', 'kilometer', 'registration_month', \n",
    "                'vehicle_type', 'gearbox', 'model', 'fuel_type', 'brand', 'repaired']\n",
    "\n",
    "data[columns_info].head()"
   ]
  },
  {
   "cell_type": "code",
   "execution_count": 14,
   "metadata": {},
   "outputs": [
    {
     "data": {
      "image/png": "[encoded data removed]",
      "text/plain": [
       "<Figure size 2000x1000 with 2 Axes>"
      ]
     },
     "metadata": {},
     "output_type": "display_data"
    }
   ],
   "source": [
    "warnings.filterwarnings(\"ignore\")\n",
    "\n",
    "interval_columns = ['price', 'registration_year', 'power', 'kilometer', 'registration_month']\n",
    "\n",
    "plt.figure(figsize=(20, 10))\n",
    "heatmap = sns.heatmap(data[columns_info].phik_matrix(interval_cols=interval_columns), annot=True)\n",
    "heatmap.set_title('Correlation Heatmap', fontdict={'fontsize': 12}, pad=12)\n",
    "\n",
    "plt.show()"
   ]
  },
  {
   "cell_type": "markdown",
   "metadata": {},
   "source": [
    "**Matches in columns for missing values**"
   ]
  },
  {
   "cell_type": "code",
   "execution_count": 15,
   "metadata": {},
   "outputs": [
    {
     "data": {
      "text/plain": [
       "array([    0.,     0.,     0.,     0.,     0.,     0.,     0.,     0.,\n",
       "           0.,     0.,     0.,     0.,     0.,     0.,     0.,     0.,\n",
       "           0.,     0.,     0.,     0.,     0.,     0.,     0.,     0.,\n",
       "           0.,     0.,     0.,     0.,     0.,     0.,     0.,     0.,\n",
       "           0.,     0.,     0.,     0.,     0.,     0.,     0.,     0.,\n",
       "        9970.,  6828., 17295.,     0., 20571.,  4131.,  8920.,     0.,\n",
       "       12788.,  7163.,     0.,  9054.,     0., 16581.,     0.])"
      ]
     },
     "execution_count": 15,
     "metadata": {},
     "output_type": "execute_result"
    }
   ],
   "source": [
    "data[columns_info].isna()\n",
    "data[columns_info].isna().T\n",
    "pdist(data[columns_info].isna().T, metric = lambda x, y: (x & y).sum())"
   ]
  },
  {
   "cell_type": "code",
   "execution_count": 16,
   "metadata": {},
   "outputs": [],
   "source": [
    "def highlight(val):\n",
    "    color = 'red' if val >= 0.7 else 'black'\n",
    "    return 'color: %s' % color"
   ]
  },
  {
   "cell_type": "code",
   "execution_count": 17,
   "metadata": {
    "scrolled": false
   },
   "outputs": [
    {
     "data": {
      "text/html": [
       "<style type=\"text/css\">\n",
       "#T_f51fd_row0_col0, #T_f51fd_row0_col1, #T_f51fd_row0_col2, #T_f51fd_row0_col3, #T_f51fd_row0_col4, #T_f51fd_row0_col5, #T_f51fd_row0_col6, #T_f51fd_row0_col7, #T_f51fd_row0_col8, #T_f51fd_row0_col9, #T_f51fd_row0_col10, #T_f51fd_row1_col0, #T_f51fd_row1_col1, #T_f51fd_row1_col2, #T_f51fd_row1_col3, #T_f51fd_row1_col4, #T_f51fd_row1_col5, #T_f51fd_row1_col6, #T_f51fd_row1_col7, #T_f51fd_row1_col8, #T_f51fd_row1_col9, #T_f51fd_row1_col10, #T_f51fd_row2_col0, #T_f51fd_row2_col1, #T_f51fd_row2_col2, #T_f51fd_row2_col3, #T_f51fd_row2_col4, #T_f51fd_row2_col5, #T_f51fd_row2_col6, #T_f51fd_row2_col7, #T_f51fd_row2_col8, #T_f51fd_row2_col9, #T_f51fd_row2_col10, #T_f51fd_row3_col0, #T_f51fd_row3_col1, #T_f51fd_row3_col2, #T_f51fd_row3_col3, #T_f51fd_row3_col4, #T_f51fd_row3_col5, #T_f51fd_row3_col6, #T_f51fd_row3_col7, #T_f51fd_row3_col8, #T_f51fd_row3_col9, #T_f51fd_row3_col10, #T_f51fd_row4_col0, #T_f51fd_row4_col1, #T_f51fd_row4_col2, #T_f51fd_row4_col3, #T_f51fd_row4_col4, #T_f51fd_row4_col5, #T_f51fd_row4_col6, #T_f51fd_row4_col7, #T_f51fd_row4_col8, #T_f51fd_row4_col9, #T_f51fd_row4_col10, #T_f51fd_row5_col0, #T_f51fd_row5_col1, #T_f51fd_row5_col2, #T_f51fd_row5_col3, #T_f51fd_row5_col4, #T_f51fd_row5_col5, #T_f51fd_row5_col6, #T_f51fd_row5_col7, #T_f51fd_row5_col8, #T_f51fd_row5_col9, #T_f51fd_row5_col10, #T_f51fd_row6_col0, #T_f51fd_row6_col1, #T_f51fd_row6_col2, #T_f51fd_row6_col3, #T_f51fd_row6_col4, #T_f51fd_row6_col5, #T_f51fd_row6_col6, #T_f51fd_row6_col7, #T_f51fd_row6_col8, #T_f51fd_row6_col9, #T_f51fd_row6_col10, #T_f51fd_row7_col0, #T_f51fd_row7_col1, #T_f51fd_row7_col2, #T_f51fd_row7_col3, #T_f51fd_row7_col4, #T_f51fd_row7_col5, #T_f51fd_row7_col6, #T_f51fd_row7_col7, #T_f51fd_row7_col8, #T_f51fd_row7_col9, #T_f51fd_row7_col10, #T_f51fd_row8_col0, #T_f51fd_row8_col1, #T_f51fd_row8_col2, #T_f51fd_row8_col3, #T_f51fd_row8_col4, #T_f51fd_row8_col5, #T_f51fd_row8_col6, #T_f51fd_row8_col7, #T_f51fd_row8_col8, #T_f51fd_row8_col9, #T_f51fd_row8_col10, #T_f51fd_row9_col0, #T_f51fd_row9_col1, #T_f51fd_row9_col2, #T_f51fd_row9_col3, #T_f51fd_row9_col4, #T_f51fd_row9_col5, #T_f51fd_row9_col6, #T_f51fd_row9_col7, #T_f51fd_row9_col8, #T_f51fd_row9_col9, #T_f51fd_row9_col10, #T_f51fd_row10_col0, #T_f51fd_row10_col1, #T_f51fd_row10_col2, #T_f51fd_row10_col3, #T_f51fd_row10_col4, #T_f51fd_row10_col5, #T_f51fd_row10_col6, #T_f51fd_row10_col7, #T_f51fd_row10_col8, #T_f51fd_row10_col9, #T_f51fd_row10_col10 {\n",
       "  color: black;\n",
       "}\n",
       "</style>\n",
       "<table id=\"T_f51fd\">\n",
       "  <thead>\n",
       "    <tr>\n",
       "      <th class=\"blank level0\" >&nbsp;</th>\n",
       "      <th id=\"T_f51fd_level0_col0\" class=\"col_heading level0 col0\" >price</th>\n",
       "      <th id=\"T_f51fd_level0_col1\" class=\"col_heading level0 col1\" >registration_year</th>\n",
       "      <th id=\"T_f51fd_level0_col2\" class=\"col_heading level0 col2\" >power</th>\n",
       "      <th id=\"T_f51fd_level0_col3\" class=\"col_heading level0 col3\" >kilometer</th>\n",
       "      <th id=\"T_f51fd_level0_col4\" class=\"col_heading level0 col4\" >registration_month</th>\n",
       "      <th id=\"T_f51fd_level0_col5\" class=\"col_heading level0 col5\" >vehicle_type</th>\n",
       "      <th id=\"T_f51fd_level0_col6\" class=\"col_heading level0 col6\" >gearbox</th>\n",
       "      <th id=\"T_f51fd_level0_col7\" class=\"col_heading level0 col7\" >model</th>\n",
       "      <th id=\"T_f51fd_level0_col8\" class=\"col_heading level0 col8\" >fuel_type</th>\n",
       "      <th id=\"T_f51fd_level0_col9\" class=\"col_heading level0 col9\" >brand</th>\n",
       "      <th id=\"T_f51fd_level0_col10\" class=\"col_heading level0 col10\" >repaired</th>\n",
       "    </tr>\n",
       "  </thead>\n",
       "  <tbody>\n",
       "    <tr>\n",
       "      <th id=\"T_f51fd_level0_row0\" class=\"row_heading level0 row0\" >price</th>\n",
       "      <td id=\"T_f51fd_row0_col0\" class=\"data row0 col0\" >0.00</td>\n",
       "      <td id=\"T_f51fd_row0_col1\" class=\"data row0 col1\" >nan</td>\n",
       "      <td id=\"T_f51fd_row0_col2\" class=\"data row0 col2\" >nan</td>\n",
       "      <td id=\"T_f51fd_row0_col3\" class=\"data row0 col3\" >nan</td>\n",
       "      <td id=\"T_f51fd_row0_col4\" class=\"data row0 col4\" >nan</td>\n",
       "      <td id=\"T_f51fd_row0_col5\" class=\"data row0 col5\" >0.00</td>\n",
       "      <td id=\"T_f51fd_row0_col6\" class=\"data row0 col6\" >0.00</td>\n",
       "      <td id=\"T_f51fd_row0_col7\" class=\"data row0 col7\" >0.00</td>\n",
       "      <td id=\"T_f51fd_row0_col8\" class=\"data row0 col8\" >0.00</td>\n",
       "      <td id=\"T_f51fd_row0_col9\" class=\"data row0 col9\" >nan</td>\n",
       "      <td id=\"T_f51fd_row0_col10\" class=\"data row0 col10\" >0.00</td>\n",
       "    </tr>\n",
       "    <tr>\n",
       "      <th id=\"T_f51fd_level0_row1\" class=\"row_heading level0 row1\" >registration_year</th>\n",
       "      <td id=\"T_f51fd_row1_col0\" class=\"data row1 col0\" >nan</td>\n",
       "      <td id=\"T_f51fd_row1_col1\" class=\"data row1 col1\" >0.00</td>\n",
       "      <td id=\"T_f51fd_row1_col2\" class=\"data row1 col2\" >nan</td>\n",
       "      <td id=\"T_f51fd_row1_col3\" class=\"data row1 col3\" >nan</td>\n",
       "      <td id=\"T_f51fd_row1_col4\" class=\"data row1 col4\" >nan</td>\n",
       "      <td id=\"T_f51fd_row1_col5\" class=\"data row1 col5\" >0.00</td>\n",
       "      <td id=\"T_f51fd_row1_col6\" class=\"data row1 col6\" >0.00</td>\n",
       "      <td id=\"T_f51fd_row1_col7\" class=\"data row1 col7\" >0.00</td>\n",
       "      <td id=\"T_f51fd_row1_col8\" class=\"data row1 col8\" >0.00</td>\n",
       "      <td id=\"T_f51fd_row1_col9\" class=\"data row1 col9\" >nan</td>\n",
       "      <td id=\"T_f51fd_row1_col10\" class=\"data row1 col10\" >0.00</td>\n",
       "    </tr>\n",
       "    <tr>\n",
       "      <th id=\"T_f51fd_level0_row2\" class=\"row_heading level0 row2\" >power</th>\n",
       "      <td id=\"T_f51fd_row2_col0\" class=\"data row2 col0\" >nan</td>\n",
       "      <td id=\"T_f51fd_row2_col1\" class=\"data row2 col1\" >nan</td>\n",
       "      <td id=\"T_f51fd_row2_col2\" class=\"data row2 col2\" >0.00</td>\n",
       "      <td id=\"T_f51fd_row2_col3\" class=\"data row2 col3\" >nan</td>\n",
       "      <td id=\"T_f51fd_row2_col4\" class=\"data row2 col4\" >nan</td>\n",
       "      <td id=\"T_f51fd_row2_col5\" class=\"data row2 col5\" >0.00</td>\n",
       "      <td id=\"T_f51fd_row2_col6\" class=\"data row2 col6\" >0.00</td>\n",
       "      <td id=\"T_f51fd_row2_col7\" class=\"data row2 col7\" >0.00</td>\n",
       "      <td id=\"T_f51fd_row2_col8\" class=\"data row2 col8\" >0.00</td>\n",
       "      <td id=\"T_f51fd_row2_col9\" class=\"data row2 col9\" >nan</td>\n",
       "      <td id=\"T_f51fd_row2_col10\" class=\"data row2 col10\" >0.00</td>\n",
       "    </tr>\n",
       "    <tr>\n",
       "      <th id=\"T_f51fd_level0_row3\" class=\"row_heading level0 row3\" >kilometer</th>\n",
       "      <td id=\"T_f51fd_row3_col0\" class=\"data row3 col0\" >nan</td>\n",
       "      <td id=\"T_f51fd_row3_col1\" class=\"data row3 col1\" >nan</td>\n",
       "      <td id=\"T_f51fd_row3_col2\" class=\"data row3 col2\" >nan</td>\n",
       "      <td id=\"T_f51fd_row3_col3\" class=\"data row3 col3\" >0.00</td>\n",
       "      <td id=\"T_f51fd_row3_col4\" class=\"data row3 col4\" >nan</td>\n",
       "      <td id=\"T_f51fd_row3_col5\" class=\"data row3 col5\" >0.00</td>\n",
       "      <td id=\"T_f51fd_row3_col6\" class=\"data row3 col6\" >0.00</td>\n",
       "      <td id=\"T_f51fd_row3_col7\" class=\"data row3 col7\" >0.00</td>\n",
       "      <td id=\"T_f51fd_row3_col8\" class=\"data row3 col8\" >0.00</td>\n",
       "      <td id=\"T_f51fd_row3_col9\" class=\"data row3 col9\" >nan</td>\n",
       "      <td id=\"T_f51fd_row3_col10\" class=\"data row3 col10\" >0.00</td>\n",
       "    </tr>\n",
       "    <tr>\n",
       "      <th id=\"T_f51fd_level0_row4\" class=\"row_heading level0 row4\" >registration_month</th>\n",
       "      <td id=\"T_f51fd_row4_col0\" class=\"data row4 col0\" >nan</td>\n",
       "      <td id=\"T_f51fd_row4_col1\" class=\"data row4 col1\" >nan</td>\n",
       "      <td id=\"T_f51fd_row4_col2\" class=\"data row4 col2\" >nan</td>\n",
       "      <td id=\"T_f51fd_row4_col3\" class=\"data row4 col3\" >nan</td>\n",
       "      <td id=\"T_f51fd_row4_col4\" class=\"data row4 col4\" >0.00</td>\n",
       "      <td id=\"T_f51fd_row4_col5\" class=\"data row4 col5\" >0.00</td>\n",
       "      <td id=\"T_f51fd_row4_col6\" class=\"data row4 col6\" >0.00</td>\n",
       "      <td id=\"T_f51fd_row4_col7\" class=\"data row4 col7\" >0.00</td>\n",
       "      <td id=\"T_f51fd_row4_col8\" class=\"data row4 col8\" >0.00</td>\n",
       "      <td id=\"T_f51fd_row4_col9\" class=\"data row4 col9\" >nan</td>\n",
       "      <td id=\"T_f51fd_row4_col10\" class=\"data row4 col10\" >0.00</td>\n",
       "    </tr>\n",
       "    <tr>\n",
       "      <th id=\"T_f51fd_level0_row5\" class=\"row_heading level0 row5\" >vehicle_type</th>\n",
       "      <td id=\"T_f51fd_row5_col0\" class=\"data row5 col0\" >0.00</td>\n",
       "      <td id=\"T_f51fd_row5_col1\" class=\"data row5 col1\" >0.00</td>\n",
       "      <td id=\"T_f51fd_row5_col2\" class=\"data row5 col2\" >0.00</td>\n",
       "      <td id=\"T_f51fd_row5_col3\" class=\"data row5 col3\" >0.00</td>\n",
       "      <td id=\"T_f51fd_row5_col4\" class=\"data row5 col4\" >0.00</td>\n",
       "      <td id=\"T_f51fd_row5_col5\" class=\"data row5 col5\" >0.00</td>\n",
       "      <td id=\"T_f51fd_row5_col6\" class=\"data row5 col6\" >0.21</td>\n",
       "      <td id=\"T_f51fd_row5_col7\" class=\"data row5 col7\" >0.14</td>\n",
       "      <td id=\"T_f51fd_row5_col8\" class=\"data row5 col8\" >0.33</td>\n",
       "      <td id=\"T_f51fd_row5_col9\" class=\"data row5 col9\" >0.00</td>\n",
       "      <td id=\"T_f51fd_row5_col10\" class=\"data row5 col10\" >0.23</td>\n",
       "    </tr>\n",
       "    <tr>\n",
       "      <th id=\"T_f51fd_level0_row6\" class=\"row_heading level0 row6\" >gearbox</th>\n",
       "      <td id=\"T_f51fd_row6_col0\" class=\"data row6 col0\" >0.00</td>\n",
       "      <td id=\"T_f51fd_row6_col1\" class=\"data row6 col1\" >0.00</td>\n",
       "      <td id=\"T_f51fd_row6_col2\" class=\"data row6 col2\" >0.00</td>\n",
       "      <td id=\"T_f51fd_row6_col3\" class=\"data row6 col3\" >0.00</td>\n",
       "      <td id=\"T_f51fd_row6_col4\" class=\"data row6 col4\" >0.00</td>\n",
       "      <td id=\"T_f51fd_row6_col5\" class=\"data row6 col5\" >0.21</td>\n",
       "      <td id=\"T_f51fd_row6_col6\" class=\"data row6 col6\" >0.00</td>\n",
       "      <td id=\"T_f51fd_row6_col7\" class=\"data row6 col7\" >0.12</td>\n",
       "      <td id=\"T_f51fd_row6_col8\" class=\"data row6 col8\" >0.20</td>\n",
       "      <td id=\"T_f51fd_row6_col9\" class=\"data row6 col9\" >0.00</td>\n",
       "      <td id=\"T_f51fd_row6_col10\" class=\"data row6 col10\" >0.16</td>\n",
       "    </tr>\n",
       "    <tr>\n",
       "      <th id=\"T_f51fd_level0_row7\" class=\"row_heading level0 row7\" >model</th>\n",
       "      <td id=\"T_f51fd_row7_col0\" class=\"data row7 col0\" >0.00</td>\n",
       "      <td id=\"T_f51fd_row7_col1\" class=\"data row7 col1\" >0.00</td>\n",
       "      <td id=\"T_f51fd_row7_col2\" class=\"data row7 col2\" >0.00</td>\n",
       "      <td id=\"T_f51fd_row7_col3\" class=\"data row7 col3\" >0.00</td>\n",
       "      <td id=\"T_f51fd_row7_col4\" class=\"data row7 col4\" >0.00</td>\n",
       "      <td id=\"T_f51fd_row7_col5\" class=\"data row7 col5\" >0.14</td>\n",
       "      <td id=\"T_f51fd_row7_col6\" class=\"data row7 col6\" >0.12</td>\n",
       "      <td id=\"T_f51fd_row7_col7\" class=\"data row7 col7\" >0.00</td>\n",
       "      <td id=\"T_f51fd_row7_col8\" class=\"data row7 col8\" >0.16</td>\n",
       "      <td id=\"T_f51fd_row7_col9\" class=\"data row7 col9\" >0.00</td>\n",
       "      <td id=\"T_f51fd_row7_col10\" class=\"data row7 col10\" >0.11</td>\n",
       "    </tr>\n",
       "    <tr>\n",
       "      <th id=\"T_f51fd_level0_row8\" class=\"row_heading level0 row8\" >fuel_type</th>\n",
       "      <td id=\"T_f51fd_row8_col0\" class=\"data row8 col0\" >0.00</td>\n",
       "      <td id=\"T_f51fd_row8_col1\" class=\"data row8 col1\" >0.00</td>\n",
       "      <td id=\"T_f51fd_row8_col2\" class=\"data row8 col2\" >0.00</td>\n",
       "      <td id=\"T_f51fd_row8_col3\" class=\"data row8 col3\" >0.00</td>\n",
       "      <td id=\"T_f51fd_row8_col4\" class=\"data row8 col4\" >0.00</td>\n",
       "      <td id=\"T_f51fd_row8_col5\" class=\"data row8 col5\" >0.33</td>\n",
       "      <td id=\"T_f51fd_row8_col6\" class=\"data row8 col6\" >0.20</td>\n",
       "      <td id=\"T_f51fd_row8_col7\" class=\"data row8 col7\" >0.16</td>\n",
       "      <td id=\"T_f51fd_row8_col8\" class=\"data row8 col8\" >0.00</td>\n",
       "      <td id=\"T_f51fd_row8_col9\" class=\"data row8 col9\" >0.00</td>\n",
       "      <td id=\"T_f51fd_row8_col10\" class=\"data row8 col10\" >0.19</td>\n",
       "    </tr>\n",
       "    <tr>\n",
       "      <th id=\"T_f51fd_level0_row9\" class=\"row_heading level0 row9\" >brand</th>\n",
       "      <td id=\"T_f51fd_row9_col0\" class=\"data row9 col0\" >nan</td>\n",
       "      <td id=\"T_f51fd_row9_col1\" class=\"data row9 col1\" >nan</td>\n",
       "      <td id=\"T_f51fd_row9_col2\" class=\"data row9 col2\" >nan</td>\n",
       "      <td id=\"T_f51fd_row9_col3\" class=\"data row9 col3\" >nan</td>\n",
       "      <td id=\"T_f51fd_row9_col4\" class=\"data row9 col4\" >nan</td>\n",
       "      <td id=\"T_f51fd_row9_col5\" class=\"data row9 col5\" >0.00</td>\n",
       "      <td id=\"T_f51fd_row9_col6\" class=\"data row9 col6\" >0.00</td>\n",
       "      <td id=\"T_f51fd_row9_col7\" class=\"data row9 col7\" >0.00</td>\n",
       "      <td id=\"T_f51fd_row9_col8\" class=\"data row9 col8\" >0.00</td>\n",
       "      <td id=\"T_f51fd_row9_col9\" class=\"data row9 col9\" >0.00</td>\n",
       "      <td id=\"T_f51fd_row9_col10\" class=\"data row9 col10\" >0.00</td>\n",
       "    </tr>\n",
       "    <tr>\n",
       "      <th id=\"T_f51fd_level0_row10\" class=\"row_heading level0 row10\" >repaired</th>\n",
       "      <td id=\"T_f51fd_row10_col0\" class=\"data row10 col0\" >0.00</td>\n",
       "      <td id=\"T_f51fd_row10_col1\" class=\"data row10 col1\" >0.00</td>\n",
       "      <td id=\"T_f51fd_row10_col2\" class=\"data row10 col2\" >0.00</td>\n",
       "      <td id=\"T_f51fd_row10_col3\" class=\"data row10 col3\" >0.00</td>\n",
       "      <td id=\"T_f51fd_row10_col4\" class=\"data row10 col4\" >0.00</td>\n",
       "      <td id=\"T_f51fd_row10_col5\" class=\"data row10 col5\" >0.23</td>\n",
       "      <td id=\"T_f51fd_row10_col6\" class=\"data row10 col6\" >0.16</td>\n",
       "      <td id=\"T_f51fd_row10_col7\" class=\"data row10 col7\" >0.11</td>\n",
       "      <td id=\"T_f51fd_row10_col8\" class=\"data row10 col8\" >0.19</td>\n",
       "      <td id=\"T_f51fd_row10_col9\" class=\"data row10 col9\" >0.00</td>\n",
       "      <td id=\"T_f51fd_row10_col10\" class=\"data row10 col10\" >0.00</td>\n",
       "    </tr>\n",
       "  </tbody>\n",
       "</table>\n"
      ],
      "text/plain": [
       "<pandas.io.formats.style.Styler at 0x1e4a8d43460>"
      ]
     },
     "execution_count": 17,
     "metadata": {},
     "output_type": "execute_result"
    }
   ],
   "source": [
    "warnings.filterwarnings(\"ignore\")\n",
    "\n",
    "pd.DataFrame(\n",
    "    squareform(pdist(data[columns_info].isna().T, metric = lambda x, y: (x & y).sum() / (x | y).sum())),\n",
    "    index = data[columns_info].columns,\n",
    "    columns = data[columns_info].columns\n",
    ").style.applymap(highlight).format(\"{:,.2f}\")"
   ]
  },
  {
   "cell_type": "markdown",
   "metadata": {},
   "source": [
    "**Features distribution**"
   ]
  },
  {
   "cell_type": "code",
   "execution_count": 18,
   "metadata": {},
   "outputs": [],
   "source": [
    "categorical_data_ = ['vehicle_type', 'gearbox', 'fuel_type', 'brand', 'repaired', 'registration_month']\n",
    "numerical_data = ['price', 'registration_year', 'power', 'kilometer']"
   ]
  },
  {
   "cell_type": "code",
   "execution_count": 19,
   "metadata": {
    "scrolled": false
   },
   "outputs": [
    {
     "name": "stdout",
     "output_type": "stream",
     "text": [
      "price\n"
     ]
    },
    {
     "data": {
      "image/png": "[encoded data removed]",
      "text/plain": [
       "<Figure size 1500x300 with 2 Axes>"
      ]
     },
     "metadata": {},
     "output_type": "display_data"
    },
    {
     "name": "stdout",
     "output_type": "stream",
     "text": [
      "registration_year\n"
     ]
    },
    {
     "data": {
      "image/png": "[encoded data removed]",
      "text/plain": [
       "<Figure size 1500x300 with 2 Axes>"
      ]
     },
     "metadata": {},
     "output_type": "display_data"
    },
    {
     "name": "stdout",
     "output_type": "stream",
     "text": [
      "power\n"
     ]
    },
    {
     "data": {
      "image/png": "[encoded data removed]",
      "text/plain": [
       "<Figure size 1500x300 with 2 Axes>"
      ]
     },
     "metadata": {},
     "output_type": "display_data"
    },
    {
     "name": "stdout",
     "output_type": "stream",
     "text": [
      "kilometer\n"
     ]
    },
    {
     "data": {
      "image/png": "[encoded data removed]",
      "text/plain": [
       "<Figure size 1500x300 with 2 Axes>"
      ]
     },
     "metadata": {},
     "output_type": "display_data"
    }
   ],
   "source": [
    "for column in data[numerical_data].columns:\n",
    "    print(column)\n",
    "    fig, (ax1, ax2) = plt.subplots(nrows=2, ncols=1, gridspec_kw={'height_ratios': [5, 2]}, figsize=(15, 3))\n",
    "    ax1.hist(data[column], bins=100, alpha=0.5, density=True)\n",
    "    ax2.boxplot(data[column], vert=False)\n",
    "    ax2.set_xlim(ax1.get_xlim())\n",
    "    plt.tight_layout()\n",
    "    plt.show()"
   ]
  },
  {
   "cell_type": "code",
   "execution_count": 20,
   "metadata": {
    "scrolled": false
   },
   "outputs": [
    {
     "name": "stdout",
     "output_type": "stream",
     "text": [
      "vehicle_type\n"
     ]
    },
    {
     "data": {
      "image/png": "[encoded data removed]",
      "text/plain": [
       "<Figure size 1500x200 with 1 Axes>"
      ]
     },
     "metadata": {},
     "output_type": "display_data"
    },
    {
     "name": "stdout",
     "output_type": "stream",
     "text": [
      "gearbox\n"
     ]
    },
    {
     "data": {
      "image/png": "[encoded data removed]",
      "text/plain": [
       "<Figure size 1500x200 with 1 Axes>"
      ]
     },
     "metadata": {},
     "output_type": "display_data"
    },
    {
     "name": "stdout",
     "output_type": "stream",
     "text": [
      "fuel_type\n"
     ]
    },
    {
     "data": {
      "image/png": "[encoded data removed]",
      "text/plain": [
       "<Figure size 1500x200 with 1 Axes>"
      ]
     },
     "metadata": {},
     "output_type": "display_data"
    },
    {
     "name": "stdout",
     "output_type": "stream",
     "text": [
      "brand\n"
     ]
    },
    {
     "data": {
      "image/png": "[encoded data removed]",
      "text/plain": [
       "<Figure size 1500x200 with 1 Axes>"
      ]
     },
     "metadata": {},
     "output_type": "display_data"
    },
    {
     "name": "stdout",
     "output_type": "stream",
     "text": [
      "repaired\n"
     ]
    },
    {
     "data": {
      "image/png": "[encoded data removed]",
      "text/plain": [
       "<Figure size 1500x200 with 1 Axes>"
      ]
     },
     "metadata": {},
     "output_type": "display_data"
    },
    {
     "name": "stdout",
     "output_type": "stream",
     "text": [
      "registration_month\n"
     ]
    },
    {
     "data": {
      "image/png": "[encoded data removed]",
      "text/plain": [
       "<Figure size 1500x200 with 1 Axes>"
      ]
     },
     "metadata": {},
     "output_type": "display_data"
    }
   ],
   "source": [
    "for column in data[categorical_data_].columns:\n",
    "    print(column)\n",
    "    fig, ax = plt.subplots(figsize=(15, 2))\n",
    "    sns.countplot(x=column, data=data, ax=ax, palette='Set3')\n",
    "    plt.xticks(rotation=90)\n",
    "    plt.show()"
   ]
  },
  {
   "cell_type": "markdown",
   "metadata": {},
   "source": [
    "**Closer look at 'registration_year' and 'power'**"
   ]
  },
  {
   "cell_type": "code",
   "execution_count": 21,
   "metadata": {},
   "outputs": [
    {
     "data": {
      "image/png": "[encoded data removed]",
      "text/plain": [
       "<Figure size 1500x200 with 1 Axes>"
      ]
     },
     "metadata": {},
     "output_type": "display_data"
    }
   ],
   "source": [
    "data[['registration_year']].boxplot(vert=False, figsize=(15, 2))\n",
    "plt.xlim(1900, 2020)\n",
    "plt.show()"
   ]
  },
  {
   "cell_type": "code",
   "execution_count": 22,
   "metadata": {},
   "outputs": [
    {
     "data": {
      "image/png": "[encoded data removed]",
      "text/plain": [
       "<Figure size 1500x200 with 1 Axes>"
      ]
     },
     "metadata": {},
     "output_type": "display_data"
    }
   ],
   "source": [
    "data[['power']].boxplot(vert=False, figsize=(15, 2))\n",
    "plt.xlim(0, 1000)\n",
    "plt.show()"
   ]
  },
  {
   "cell_type": "markdown",
   "metadata": {},
   "source": [
    "First and foremost, we should pay attention to the 'registration_year' and 'power' plots. They seem to contain unusual or incorrect data points (outliers), such as a car's power rating being equal to 0 or exceeding 500-700 horsepower, or registration years later than 2016."
   ]
  },
  {
   "cell_type": "code",
   "execution_count": 23,
   "metadata": {},
   "outputs": [
    {
     "name": "stdout",
     "output_type": "stream",
     "text": [
      "The data with car power ratings exceeding 600 horsepower make up approximately 0.11 %\n"
     ]
    }
   ],
   "source": [
    "print('The data with car power ratings exceeding 600 horsepower make up approximately {} %'.format(round(\n",
    "    len(data[data['power'] > 600]) / len(data) * 100, 2)))"
   ]
  },
  {
   "cell_type": "code",
   "execution_count": 24,
   "metadata": {},
   "outputs": [
    {
     "name": "stdout",
     "output_type": "stream",
     "text": [
      "The data with car power ratings equal to 0 make up approximately 11.35 %\n"
     ]
    }
   ],
   "source": [
    "print('The data with car power ratings equal to 0 make up approximately {} %'.format(round(\n",
    "    len(data[data['power'] == 0]) / len(data) * 100, 2)))"
   ]
  },
  {
   "cell_type": "markdown",
   "metadata": {},
   "source": [
    "There are too many data points with zero power ratings, so we won't remove them"
   ]
  },
  {
   "cell_type": "code",
   "execution_count": 25,
   "metadata": {},
   "outputs": [
    {
     "name": "stdout",
     "output_type": "stream",
     "text": [
      "The data with registration years later than 2016 make up approximately 4.1 %\n"
     ]
    }
   ],
   "source": [
    "print('The data with registration years later than 2016 make up approximately {} %'.format(round(\n",
    "    len(data[data['registration_year'] > 2016]) / len(data) * 100, 2)))"
   ]
  },
  {
   "cell_type": "code",
   "execution_count": 26,
   "metadata": {},
   "outputs": [
    {
     "name": "stdout",
     "output_type": "stream",
     "text": [
      "The data with registration years earlier than 1970 make up approximately 0.38 %\n"
     ]
    }
   ],
   "source": [
    "print('The data with registration years earlier than 1970 make up approximately {} %'.format(round(\n",
    "    len(data[data['registration_year'] < 1970]) / len(data) * 100, 2)))"
   ]
  },
  {
   "cell_type": "markdown",
   "metadata": {},
   "source": [
    "**Removing outliers in the 'power' and 'registration_year' columns**"
   ]
  },
  {
   "cell_type": "code",
   "execution_count": 27,
   "metadata": {},
   "outputs": [
    {
     "data": {
      "text/plain": [
       "354365"
      ]
     },
     "execution_count": 27,
     "metadata": {},
     "output_type": "execute_result"
    }
   ],
   "source": [
    "len(data)"
   ]
  },
  {
   "cell_type": "code",
   "execution_count": 28,
   "metadata": {},
   "outputs": [],
   "source": [
    "# data = data.loc[data['power'] > 600]\n",
    "data = data.drop(data[data['power'] > 600].index).reset_index(drop=True)"
   ]
  },
  {
   "cell_type": "code",
   "execution_count": 29,
   "metadata": {},
   "outputs": [],
   "source": [
    "data = data.drop(data[data['registration_year'] > 2016].index).reset_index(drop=True)"
   ]
  },
  {
   "cell_type": "code",
   "execution_count": 30,
   "metadata": {},
   "outputs": [],
   "source": [
    "data = data.drop(data[data['registration_year'] < 1970].index).reset_index(drop=True)"
   ]
  },
  {
   "cell_type": "code",
   "execution_count": 31,
   "metadata": {},
   "outputs": [
    {
     "name": "stdout",
     "output_type": "stream",
     "text": [
      "The data with a price equal to 0 make up approximately 2.91 %\n"
     ]
    }
   ],
   "source": [
    "print('The data with a price equal to 0 make up approximately {} %'.format(round(\n",
    "    len(data[data['price'] == 0]) / len(data) * 100, 2)))"
   ]
  },
  {
   "cell_type": "markdown",
   "metadata": {},
   "source": [
    "**Removing outliers in 'price'**"
   ]
  },
  {
   "cell_type": "code",
   "execution_count": 32,
   "metadata": {},
   "outputs": [],
   "source": [
    "data = data.drop(data[data['price'] == 0].index).reset_index(drop=True)"
   ]
  },
  {
   "cell_type": "markdown",
   "metadata": {},
   "source": [
    "During the process of handling missing values after splitting into subsets, it was discovered that the 'brand' column contains missing values filled with the string 'sonstige_autos,' which corresponds to rows with NaN values in the 'model' column. Consequently, these entries lack both brand and model information, and it was decided to remove the rows with this data from the overall dataset."
   ]
  },
  {
   "cell_type": "code",
   "execution_count": 33,
   "metadata": {},
   "outputs": [
    {
     "name": "stdout",
     "output_type": "stream",
     "text": [
      "The data with \"sonstige_autos\" in the table make up approximately 0.73 %\n"
     ]
    }
   ],
   "source": [
    "print('The data with \"sonstige_autos\" in the table make up approximately {} %'.format(round(\n",
    "    len(data[data['brand'] == 'sonstige_autos']) / len(data) * 100, 2)))"
   ]
  },
  {
   "cell_type": "code",
   "execution_count": 34,
   "metadata": {},
   "outputs": [],
   "source": [
    "data = data.drop(data[data['brand'] == 'sonstige_autos'].index).reset_index(drop=True)"
   ]
  },
  {
   "cell_type": "code",
   "execution_count": 35,
   "metadata": {},
   "outputs": [
    {
     "name": "stdout",
     "output_type": "stream",
     "text": [
      "Overall, 8.03% of the data was removed\n"
     ]
    }
   ],
   "source": [
    "print('Overall, {}% of the data was removed'.format(round(100 - len(data)/ len(data_initial) *100, 2)))"
   ]
  },
  {
   "cell_type": "code",
   "execution_count": 36,
   "metadata": {},
   "outputs": [
    {
     "data": {
      "text/html": [
       "<div>\n",
       "<style scoped>\n",
       "    .dataframe tbody tr th:only-of-type {\n",
       "        vertical-align: middle;\n",
       "    }\n",
       "\n",
       "    .dataframe tbody tr th {\n",
       "        vertical-align: top;\n",
       "    }\n",
       "\n",
       "    .dataframe thead th {\n",
       "        text-align: right;\n",
       "    }\n",
       "</style>\n",
       "<table border=\"1\" class=\"dataframe\">\n",
       "  <thead>\n",
       "    <tr style=\"text-align: right;\">\n",
       "      <th></th>\n",
       "      <th>price</th>\n",
       "      <th>vehicle_type</th>\n",
       "      <th>registration_year</th>\n",
       "      <th>gearbox</th>\n",
       "      <th>power</th>\n",
       "      <th>model</th>\n",
       "      <th>kilometer</th>\n",
       "      <th>registration_month</th>\n",
       "      <th>fuel_type</th>\n",
       "      <th>brand</th>\n",
       "      <th>repaired</th>\n",
       "    </tr>\n",
       "  </thead>\n",
       "  <tbody>\n",
       "    <tr>\n",
       "      <th>0</th>\n",
       "      <td>480</td>\n",
       "      <td>NaN</td>\n",
       "      <td>1993</td>\n",
       "      <td>manual</td>\n",
       "      <td>0</td>\n",
       "      <td>golf</td>\n",
       "      <td>150000</td>\n",
       "      <td>0</td>\n",
       "      <td>petrol</td>\n",
       "      <td>volkswagen</td>\n",
       "      <td>NaN</td>\n",
       "    </tr>\n",
       "    <tr>\n",
       "      <th>1</th>\n",
       "      <td>18300</td>\n",
       "      <td>coupe</td>\n",
       "      <td>2011</td>\n",
       "      <td>manual</td>\n",
       "      <td>190</td>\n",
       "      <td>NaN</td>\n",
       "      <td>125000</td>\n",
       "      <td>5</td>\n",
       "      <td>gasoline</td>\n",
       "      <td>audi</td>\n",
       "      <td>yes</td>\n",
       "    </tr>\n",
       "    <tr>\n",
       "      <th>2</th>\n",
       "      <td>9800</td>\n",
       "      <td>suv</td>\n",
       "      <td>2004</td>\n",
       "      <td>auto</td>\n",
       "      <td>163</td>\n",
       "      <td>grand</td>\n",
       "      <td>125000</td>\n",
       "      <td>8</td>\n",
       "      <td>gasoline</td>\n",
       "      <td>jeep</td>\n",
       "      <td>NaN</td>\n",
       "    </tr>\n",
       "    <tr>\n",
       "      <th>3</th>\n",
       "      <td>1500</td>\n",
       "      <td>small</td>\n",
       "      <td>2001</td>\n",
       "      <td>manual</td>\n",
       "      <td>75</td>\n",
       "      <td>golf</td>\n",
       "      <td>150000</td>\n",
       "      <td>6</td>\n",
       "      <td>petrol</td>\n",
       "      <td>volkswagen</td>\n",
       "      <td>no</td>\n",
       "    </tr>\n",
       "    <tr>\n",
       "      <th>4</th>\n",
       "      <td>3600</td>\n",
       "      <td>small</td>\n",
       "      <td>2008</td>\n",
       "      <td>manual</td>\n",
       "      <td>69</td>\n",
       "      <td>fabia</td>\n",
       "      <td>90000</td>\n",
       "      <td>7</td>\n",
       "      <td>gasoline</td>\n",
       "      <td>skoda</td>\n",
       "      <td>no</td>\n",
       "    </tr>\n",
       "  </tbody>\n",
       "</table>\n",
       "</div>"
      ],
      "text/plain": [
       "   price vehicle_type  registration_year gearbox  power  model  kilometer  \\\n",
       "0    480          NaN               1993  manual      0   golf     150000   \n",
       "1  18300        coupe               2011  manual    190    NaN     125000   \n",
       "2   9800          suv               2004    auto    163  grand     125000   \n",
       "3   1500        small               2001  manual     75   golf     150000   \n",
       "4   3600        small               2008  manual     69  fabia      90000   \n",
       "\n",
       "   registration_month fuel_type       brand repaired  \n",
       "0                   0    petrol  volkswagen      NaN  \n",
       "1                   5  gasoline        audi      yes  \n",
       "2                   8  gasoline        jeep      NaN  \n",
       "3                   6    petrol  volkswagen       no  \n",
       "4                   7  gasoline       skoda       no  "
      ]
     },
     "execution_count": 36,
     "metadata": {},
     "output_type": "execute_result"
    }
   ],
   "source": [
    "data.head()"
   ]
  },
  {
   "cell_type": "code",
   "execution_count": 37,
   "metadata": {},
   "outputs": [
    {
     "name": "stdout",
     "output_type": "stream",
     "text": [
      "<class 'pandas.core.frame.DataFrame'>\n",
      "RangeIndex: 325905 entries, 0 to 325904\n",
      "Data columns (total 11 columns):\n",
      " #   Column              Non-Null Count   Dtype \n",
      "---  ------              --------------   ----- \n",
      " 0   price               325905 non-null  int64 \n",
      " 1   vehicle_type        306599 non-null  object\n",
      " 2   registration_year   325905 non-null  int64 \n",
      " 3   gearbox             311125 non-null  object\n",
      " 4   power               325905 non-null  int64 \n",
      " 5   model               313081 non-null  object\n",
      " 6   kilometer           325905 non-null  int64 \n",
      " 7   registration_month  325905 non-null  int64 \n",
      " 8   fuel_type           302593 non-null  object\n",
      " 9   brand               325905 non-null  object\n",
      " 10  repaired            267245 non-null  object\n",
      "dtypes: int64(5), object(6)\n",
      "memory usage: 27.4+ MB\n"
     ]
    }
   ],
   "source": [
    "data.info()"
   ]
  },
  {
   "cell_type": "markdown",
   "metadata": {},
   "source": [
    "### Splitting the data into training, validation, and test sets"
   ]
  },
  {
   "cell_type": "code",
   "execution_count": 38,
   "metadata": {},
   "outputs": [
    {
     "name": "stdout",
     "output_type": "stream",
     "text": [
      "(195543, 10)\n",
      "(65181, 10)\n",
      "(65181, 10)\n",
      "(195543,)\n",
      "(65181,)\n",
      "(65181,)\n"
     ]
    }
   ],
   "source": [
    "X_train, y_train, X_valid, y_valid, X_test, y_test = train_valid_test_split(data, target = 'price',\n",
    "                                                                           train_size=0.6, valid_size=0.2, test_size=0.2, \n",
    "                                                                           random_state=state)\n",
    "print(X_train.shape)\n",
    "print(X_valid.shape)\n",
    "print(X_test.shape)\n",
    "print(y_train.shape)\n",
    "print(y_valid.shape)\n",
    "print(y_test.shape)"
   ]
  },
  {
   "cell_type": "markdown",
   "metadata": {},
   "source": [
    "### Filling missing values in the training dataset"
   ]
  },
  {
   "cell_type": "markdown",
   "metadata": {},
   "source": [
    "**Filling the missing values in the 'model' column with the mode of the 'brand' column**"
   ]
  },
  {
   "cell_type": "code",
   "execution_count": 39,
   "metadata": {},
   "outputs": [],
   "source": [
    "mapping_dict = X_train.groupby('brand')['model'].agg(lambda x: x.mode()[0]).to_dict()\n",
    "# mapping_dict"
   ]
  },
  {
   "cell_type": "code",
   "execution_count": 40,
   "metadata": {},
   "outputs": [],
   "source": [
    "X_train['model'] = X_train['model'].fillna(data['brand'].map(mapping_dict))\n",
    "X_valid['model'] = X_valid['model'].fillna(data['brand'].map(mapping_dict))\n",
    "X_test['model'] = X_test['model'].fillna(data['brand'].map(mapping_dict))"
   ]
  },
  {
   "cell_type": "code",
   "execution_count": 41,
   "metadata": {},
   "outputs": [
    {
     "name": "stdout",
     "output_type": "stream",
     "text": [
      "0\n",
      "0\n",
      "0\n"
     ]
    }
   ],
   "source": [
    "print(X_train['model'].isna().sum())\n",
    "print(X_valid['model'].isna().sum())\n",
    "print(X_test['model'].isna().sum())"
   ]
  },
  {
   "cell_type": "markdown",
   "metadata": {},
   "source": [
    "**Filling the missing values in the 'vehicle_type' column with the mode of the 'model' column**"
   ]
  },
  {
   "cell_type": "markdown",
   "metadata": {},
   "source": [
    "When 'model' has the value 'unknown,' we also fill 'vehicle_type' with the value 'unknown'"
   ]
  },
  {
   "cell_type": "code",
   "execution_count": 42,
   "metadata": {},
   "outputs": [],
   "source": [
    "mapping_dict_2 = X_train.groupby('model')['vehicle_type'].agg(\n",
    "    lambda x: x.mode()[0] if len(x.mode())> 0 else 'unknown').to_dict()\n",
    "# mapping_dict_2"
   ]
  },
  {
   "cell_type": "code",
   "execution_count": 43,
   "metadata": {},
   "outputs": [],
   "source": [
    "X_train['vehicle_type'] = X_train['vehicle_type'].fillna(X_train['model'].map(mapping_dict_2))\n",
    "X_valid['vehicle_type'] = X_valid['vehicle_type'].fillna(X_valid['model'].map(mapping_dict_2))\n",
    "X_test['vehicle_type'] = X_test['vehicle_type'].fillna(X_test['model'].map(mapping_dict_2))"
   ]
  },
  {
   "cell_type": "code",
   "execution_count": 44,
   "metadata": {},
   "outputs": [
    {
     "name": "stdout",
     "output_type": "stream",
     "text": [
      "0\n",
      "0\n",
      "0\n"
     ]
    }
   ],
   "source": [
    "print(X_train['vehicle_type'].isna().sum())\n",
    "print(X_valid['vehicle_type'].isna().sum())\n",
    "print(X_test['vehicle_type'].isna().sum())"
   ]
  },
  {
   "cell_type": "markdown",
   "metadata": {},
   "source": [
    "**The remaining missing values are filled with 'unknown'**"
   ]
  },
  {
   "cell_type": "code",
   "execution_count": 45,
   "metadata": {},
   "outputs": [],
   "source": [
    "X_train['repaired'] = X_train['repaired'].fillna('unknown')\n",
    "X_valid['repaired'] = X_valid['repaired'].fillna('unknown')\n",
    "X_test['repaired'] = X_test['repaired'].fillna('unknown')"
   ]
  },
  {
   "cell_type": "markdown",
   "metadata": {},
   "source": [
    "The 'repaired' column is challenging to fill using statistical methods, so it makes more sense to set the status as 'unknown'. In the case of the remaining columns, 'gearbox' and 'fuel_type,' there is some correlation with fully filled columns, but they are not close to high values. Therefore, the decision was made to fill them with 'unknown' as well"
   ]
  },
  {
   "cell_type": "code",
   "execution_count": 46,
   "metadata": {},
   "outputs": [
    {
     "data": {
      "text/plain": [
       "array(['manual', 'auto', nan], dtype=object)"
      ]
     },
     "execution_count": 46,
     "metadata": {},
     "output_type": "execute_result"
    }
   ],
   "source": [
    "data['gearbox'].unique()"
   ]
  },
  {
   "cell_type": "code",
   "execution_count": 47,
   "metadata": {},
   "outputs": [],
   "source": [
    "X_train['gearbox'] = X_train['gearbox'].fillna('unknown')\n",
    "X_valid['gearbox'] = X_valid['gearbox'].fillna('unknown')\n",
    "X_test['gearbox'] = X_test['gearbox'].fillna('unknown')"
   ]
  },
  {
   "cell_type": "code",
   "execution_count": 48,
   "metadata": {},
   "outputs": [
    {
     "data": {
      "text/plain": [
       "array(['petrol', 'gasoline', nan, 'lpg', 'other', 'hybrid', 'cng',\n",
       "       'electric'], dtype=object)"
      ]
     },
     "execution_count": 48,
     "metadata": {},
     "output_type": "execute_result"
    }
   ],
   "source": [
    "data['fuel_type'].unique()"
   ]
  },
  {
   "cell_type": "code",
   "execution_count": 49,
   "metadata": {},
   "outputs": [],
   "source": [
    "X_train['fuel_type'] = X_train['fuel_type'].fillna('other')\n",
    "X_valid['fuel_type'] = X_valid['fuel_type'].fillna('other')\n",
    "X_test['fuel_type'] = X_test['fuel_type'].fillna('other')"
   ]
  },
  {
   "cell_type": "code",
   "execution_count": 50,
   "metadata": {},
   "outputs": [
    {
     "name": "stdout",
     "output_type": "stream",
     "text": [
      "NaNs in X_train = 0\n",
      "NaNs in X_valid = 0\n",
      "NaNs in X_test = 0\n"
     ]
    }
   ],
   "source": [
    "print('NaNs in X_train =', X_train.isna().sum().sum())\n",
    "print('NaNs in X_valid =', X_valid.isna().sum().sum())\n",
    "print('NaNs in X_test =',X_test.isna().sum().sum())"
   ]
  },
  {
   "cell_type": "markdown",
   "metadata": {},
   "source": [
    "**Results of the data analysis and processing:**\n",
    "\n",
    "- Missing values were detected in the following columns:\n",
    "  - 'VehicleType'\n",
    "  - 'Gearbox'\n",
    "  - 'Model'\n",
    "  - 'FuelType'\n",
    "  - 'Repaired'\n",
    "\n",
    "- All column names were converted to lowercase with underscores.\n",
    "\n",
    "- The following columns were deleted as they are not relevant for model building:\n",
    "  - 'postal_code'\n",
    "  - 'last_seen'\n",
    "  - 'date_crawled'\n",
    "  - 'date_created'\n",
    "\n",
    "- 'number_of_pictures' was also removed as it had no data.\n",
    "\n",
    "- High correlation was found between the following columns:\n",
    "  - 'brand' and 'model'\n",
    "  - 'model' and 'vehicle_type'\n",
    "  Missing values in these columns were filled with the mode.\n",
    "\n",
    "- In the 'brand' column, there were missing values filled with the string 'sonstige_autos,' which corresponds to NaN values in the 'model' column. Consequently, rows with no brand or model information were removed from the overall dataset.\n",
    "\n",
    "- Outliers were identified in the following columns:\n",
    "  - 'registration_year'\n",
    "  - 'power'\n",
    "  These outliers included unusual or incorrect data, such as cars with power ratings of 0 or exceeding 500-700 horsepower, or registration years earlier than 1970 or later than 2016. These outliers were removed.\n",
    "\n",
    "- The 'repaired' column was challenging to fill using statistical methods, so missing values were replaced with 'unknown.'\n",
    "\n",
    "- The 'gearbox' and 'fuel_type' columns were filled with 'other' and 'unknown' values.\n"
   ]
  },
  {
   "cell_type": "markdown",
   "metadata": {},
   "source": [
    "## Models"
   ]
  },
  {
   "cell_type": "markdown",
   "metadata": {},
   "source": [
    "### CatboostRegressor_1"
   ]
  },
  {
   "cell_type": "code",
   "execution_count": 51,
   "metadata": {},
   "outputs": [
    {
     "data": {
      "text/plain": [
       "{int64: ['registration_year', 'power', 'kilometer', 'registration_month'], object: ['vehicle_type', 'gearbox', 'model', 'fuel_type', 'brand', 'repaired']}"
      ]
     },
     "execution_count": 51,
     "metadata": {},
     "output_type": "execute_result"
    }
   ],
   "source": [
    "X_train.columns.to_series().groupby(X_train.dtypes).groups"
   ]
  },
  {
   "cell_type": "code",
   "execution_count": 52,
   "metadata": {},
   "outputs": [],
   "source": [
    "categorical_data = ['vehicle_type', 'gearbox', 'model', 'fuel_type', 'brand', 'repaired', 'registration_month']"
   ]
  },
  {
   "cell_type": "code",
   "execution_count": 53,
   "metadata": {},
   "outputs": [],
   "source": [
    "parameters_cbr = {'cat_features': categorical_data,\n",
    "                  'eval_metric': 'RMSE',\n",
    "                  'random_seed': state,\n",
    "                  'verbose':100}"
   ]
  },
  {
   "cell_type": "code",
   "execution_count": 54,
   "metadata": {},
   "outputs": [],
   "source": [
    "model_cbr = CatBoostRegressor(**parameters_cbr)"
   ]
  },
  {
   "cell_type": "code",
   "execution_count": 55,
   "metadata": {
    "scrolled": false
   },
   "outputs": [
    {
     "name": "stdout",
     "output_type": "stream",
     "text": [
      "Learning rate set to 0.116579\n",
      "0:\tlearn: 4185.9047111\ttest: 4195.3531858\tbest: 4195.3531858 (0)\ttotal: 287ms\tremaining: 4m 46s\n",
      "100:\tlearn: 1719.5328079\ttest: 1742.1366897\tbest: 1742.1366897 (100)\ttotal: 14.3s\tremaining: 2m 7s\n",
      "200:\tlearn: 1641.3988860\ttest: 1676.5558081\tbest: 1676.5558081 (200)\ttotal: 28.2s\tremaining: 1m 52s\n",
      "300:\tlearn: 1606.9029796\ttest: 1651.9738491\tbest: 1651.9738491 (300)\ttotal: 41.7s\tremaining: 1m 36s\n",
      "400:\tlearn: 1580.5706792\ttest: 1636.1638702\tbest: 1636.1638702 (400)\ttotal: 55.8s\tremaining: 1m 23s\n",
      "500:\tlearn: 1560.4809410\ttest: 1624.5786315\tbest: 1624.5786315 (500)\ttotal: 1m 10s\tremaining: 1m 10s\n",
      "600:\tlearn: 1543.5774180\ttest: 1614.6283571\tbest: 1614.6283571 (600)\ttotal: 1m 25s\tremaining: 56.7s\n",
      "700:\tlearn: 1530.3477282\ttest: 1608.4987413\tbest: 1608.4987413 (700)\ttotal: 1m 39s\tremaining: 42.6s\n",
      "800:\tlearn: 1518.6172214\ttest: 1602.5792985\tbest: 1602.5792985 (800)\ttotal: 1m 54s\tremaining: 28.4s\n",
      "900:\tlearn: 1507.4853681\ttest: 1597.8569003\tbest: 1597.8555188 (899)\ttotal: 2m 8s\tremaining: 14.2s\n",
      "999:\tlearn: 1497.0953596\ttest: 1593.1445258\tbest: 1593.1445258 (999)\ttotal: 2m 23s\tremaining: 0us\n",
      "\n",
      "bestTest = 1593.144526\n",
      "bestIteration = 999\n",
      "\n",
      "CPU times: total: 13min 1s\n",
      "Wall time: 2min 25s\n"
     ]
    },
    {
     "data": {
      "text/plain": [
       "<catboost.core.CatBoostRegressor at 0x1e4bd5d06a0>"
      ]
     },
     "execution_count": 55,
     "metadata": {},
     "output_type": "execute_result"
    }
   ],
   "source": [
    "%%time\n",
    "\n",
    "model_cbr.fit(X_train,y_train,eval_set=(X_valid,y_valid))"
   ]
  },
  {
   "cell_type": "code",
   "execution_count": 56,
   "metadata": {},
   "outputs": [
    {
     "data": {
      "text/html": [
       "<div>\n",
       "<style scoped>\n",
       "    .dataframe tbody tr th:only-of-type {\n",
       "        vertical-align: middle;\n",
       "    }\n",
       "\n",
       "    .dataframe tbody tr th {\n",
       "        vertical-align: top;\n",
       "    }\n",
       "\n",
       "    .dataframe thead th {\n",
       "        text-align: right;\n",
       "    }\n",
       "</style>\n",
       "<table border=\"1\" class=\"dataframe\">\n",
       "  <thead>\n",
       "    <tr style=\"text-align: right;\">\n",
       "      <th></th>\n",
       "      <th>Feature Id</th>\n",
       "      <th>Importances</th>\n",
       "    </tr>\n",
       "  </thead>\n",
       "  <tbody>\n",
       "    <tr>\n",
       "      <th>0</th>\n",
       "      <td>registration_year</td>\n",
       "      <td>38.410619</td>\n",
       "    </tr>\n",
       "    <tr>\n",
       "      <th>1</th>\n",
       "      <td>power</td>\n",
       "      <td>25.118895</td>\n",
       "    </tr>\n",
       "    <tr>\n",
       "      <th>2</th>\n",
       "      <td>kilometer</td>\n",
       "      <td>11.037921</td>\n",
       "    </tr>\n",
       "    <tr>\n",
       "      <th>3</th>\n",
       "      <td>brand</td>\n",
       "      <td>8.131909</td>\n",
       "    </tr>\n",
       "    <tr>\n",
       "      <th>4</th>\n",
       "      <td>vehicle_type</td>\n",
       "      <td>5.443442</td>\n",
       "    </tr>\n",
       "    <tr>\n",
       "      <th>5</th>\n",
       "      <td>model</td>\n",
       "      <td>4.318418</td>\n",
       "    </tr>\n",
       "    <tr>\n",
       "      <th>6</th>\n",
       "      <td>repaired</td>\n",
       "      <td>3.109666</td>\n",
       "    </tr>\n",
       "    <tr>\n",
       "      <th>7</th>\n",
       "      <td>fuel_type</td>\n",
       "      <td>2.871862</td>\n",
       "    </tr>\n",
       "    <tr>\n",
       "      <th>8</th>\n",
       "      <td>gearbox</td>\n",
       "      <td>1.033426</td>\n",
       "    </tr>\n",
       "    <tr>\n",
       "      <th>9</th>\n",
       "      <td>registration_month</td>\n",
       "      <td>0.523844</td>\n",
       "    </tr>\n",
       "  </tbody>\n",
       "</table>\n",
       "</div>"
      ],
      "text/plain": [
       "           Feature Id  Importances\n",
       "0   registration_year    38.410619\n",
       "1               power    25.118895\n",
       "2           kilometer    11.037921\n",
       "3               brand     8.131909\n",
       "4        vehicle_type     5.443442\n",
       "5               model     4.318418\n",
       "6            repaired     3.109666\n",
       "7           fuel_type     2.871862\n",
       "8             gearbox     1.033426\n",
       "9  registration_month     0.523844"
      ]
     },
     "execution_count": 56,
     "metadata": {},
     "output_type": "execute_result"
    }
   ],
   "source": [
    "model_cbr.get_feature_importance(prettified=True)"
   ]
  },
  {
   "cell_type": "code",
   "execution_count": 57,
   "metadata": {},
   "outputs": [
    {
     "name": "stdout",
     "output_type": "stream",
     "text": [
      "RMSE = 1593.1445257678683\n",
      "CPU times: total: 1.31 s\n",
      "Wall time: 386 ms\n"
     ]
    }
   ],
   "source": [
    "%%time\n",
    "\n",
    "predictions_catboost = model_cbr.predict(X_valid)\n",
    "rse_catboost = mean_squared_error(y_valid, predictions_catboost, squared=False) \n",
    "print('RMSE =', rse_catboost)"
   ]
  },
  {
   "cell_type": "markdown",
   "metadata": {},
   "source": [
    "### CatboostRegressor_2"
   ]
  },
  {
   "cell_type": "code",
   "execution_count": 58,
   "metadata": {},
   "outputs": [],
   "source": [
    "parameters_cbr_2 = {'cat_features': categorical_data,\n",
    "                        'eval_metric': 'RMSE',\n",
    "                        'random_seed': state,\n",
    "                        'learning_rate': 0.8,\n",
    "                        'verbose':100}"
   ]
  },
  {
   "cell_type": "code",
   "execution_count": 59,
   "metadata": {},
   "outputs": [],
   "source": [
    "model_cbr_2 = CatBoostRegressor(**parameters_cbr_2)"
   ]
  },
  {
   "cell_type": "code",
   "execution_count": 60,
   "metadata": {},
   "outputs": [
    {
     "name": "stdout",
     "output_type": "stream",
     "text": [
      "0:\tlearn: 2741.1995795\ttest: 2746.6675698\tbest: 2746.6675698 (0)\ttotal: 155ms\tremaining: 2m 34s\n",
      "100:\tlearn: 1590.4998341\ttest: 1663.0031405\tbest: 1662.8338502 (98)\ttotal: 14.3s\tremaining: 2m 7s\n",
      "200:\tlearn: 1524.3723545\ttest: 1642.6821798\tbest: 1642.4244558 (196)\ttotal: 28.9s\tremaining: 1m 55s\n",
      "300:\tlearn: 1483.3413470\ttest: 1632.7984116\tbest: 1632.5495348 (291)\ttotal: 44.1s\tremaining: 1m 42s\n",
      "400:\tlearn: 1448.7667408\ttest: 1628.3096424\tbest: 1627.9640469 (394)\ttotal: 60s\tremaining: 1m 29s\n",
      "500:\tlearn: 1423.2838354\ttest: 1625.1479246\tbest: 1624.5401136 (496)\ttotal: 1m 15s\tremaining: 1m 15s\n",
      "600:\tlearn: 1401.7273815\ttest: 1625.3628962\tbest: 1623.5937138 (559)\ttotal: 1m 33s\tremaining: 1m 2s\n",
      "700:\tlearn: 1382.2937345\ttest: 1624.4724870\tbest: 1623.5937138 (559)\ttotal: 1m 51s\tremaining: 47.5s\n",
      "800:\tlearn: 1364.9759213\ttest: 1623.5190267\tbest: 1623.4846943 (792)\ttotal: 2m 7s\tremaining: 31.7s\n",
      "900:\tlearn: 1349.7446872\ttest: 1622.2999356\tbest: 1622.0624772 (844)\ttotal: 2m 24s\tremaining: 15.9s\n",
      "999:\tlearn: 1334.2991084\ttest: 1621.6858900\tbest: 1621.1302825 (965)\ttotal: 2m 45s\tremaining: 0us\n",
      "\n",
      "bestTest = 1621.130283\n",
      "bestIteration = 965\n",
      "\n",
      "Shrink model to first 966 iterations.\n",
      "CPU times: total: 13min 22s\n",
      "Wall time: 2min 47s\n"
     ]
    },
    {
     "data": {
      "text/plain": [
       "<catboost.core.CatBoostRegressor at 0x1e4bdf31670>"
      ]
     },
     "execution_count": 60,
     "metadata": {},
     "output_type": "execute_result"
    }
   ],
   "source": [
    "%%time\n",
    "\n",
    "model_cbr_2.fit(X_train,y_train,eval_set=(X_valid,y_valid))"
   ]
  },
  {
   "cell_type": "code",
   "execution_count": 61,
   "metadata": {},
   "outputs": [
    {
     "name": "stdout",
     "output_type": "stream",
     "text": [
      "RMSE = 1621.130282538108\n",
      "CPU times: total: 1.73 s\n",
      "Wall time: 454 ms\n"
     ]
    }
   ],
   "source": [
    "%%time\n",
    "\n",
    "predictions_catboost_2 = model_cbr_2.predict(X_valid)\n",
    "rse_catboost_2 = mean_squared_error(y_valid, predictions_catboost_2, squared=False) \n",
    "print('RMSE =', rse_catboost_2)"
   ]
  },
  {
   "cell_type": "markdown",
   "metadata": {},
   "source": [
    "### lightgbm.LGBMRegressor_1"
   ]
  },
  {
   "cell_type": "code",
   "execution_count": 62,
   "metadata": {},
   "outputs": [
    {
     "name": "stdout",
     "output_type": "stream",
     "text": [
      "<class 'pandas.core.frame.DataFrame'>\n",
      "Index: 195543 entries, 201268 to 121958\n",
      "Data columns (total 10 columns):\n",
      " #   Column              Non-Null Count   Dtype   \n",
      "---  ------              --------------   -----   \n",
      " 0   vehicle_type        195543 non-null  category\n",
      " 1   registration_year   195543 non-null  int64   \n",
      " 2   gearbox             195543 non-null  category\n",
      " 3   power               195543 non-null  int64   \n",
      " 4   model               195543 non-null  category\n",
      " 5   kilometer           195543 non-null  int64   \n",
      " 6   registration_month  195543 non-null  category\n",
      " 7   fuel_type           195543 non-null  category\n",
      " 8   brand               195543 non-null  category\n",
      " 9   repaired            195543 non-null  category\n",
      "dtypes: category(7), int64(3)\n",
      "memory usage: 7.5 MB\n"
     ]
    }
   ],
   "source": [
    "categorical_data = ['vehicle_type', 'gearbox', 'model', 'fuel_type', 'brand', 'repaired', 'registration_month']\n",
    "\n",
    "for col in categorical_data:\n",
    "    X_train[col] = X_train[col].astype('category')\n",
    "    X_valid[col] = X_valid[col].astype('category')\n",
    "    X_test[col] = X_test[col].astype('category')\n",
    "        \n",
    "X_train.info()"
   ]
  },
  {
   "cell_type": "code",
   "execution_count": 63,
   "metadata": {},
   "outputs": [
    {
     "name": "stdout",
     "output_type": "stream",
     "text": [
      "[LightGBM] [Warning] categorical_feature is set=vehicle_type,gearbox,model,fuel_type,brand,repaired,registration_month, categorical_column=0,2,4,6,7,8,9 will be ignored. Current value: categorical_feature=vehicle_type,gearbox,model,fuel_type,brand,repaired,registration_month\n",
      "[LightGBM] [Warning] Auto-choosing row-wise multi-threading, the overhead of testing was 0.007158 seconds.\n",
      "You can set `force_row_wise=true` to remove the overhead.\n",
      "And if memory is not enough, you can set `force_col_wise=true`.\n",
      "[LightGBM] [Info] Total Bins 607\n",
      "[LightGBM] [Info] Number of data points in the train set: 195543, number of used features: 10\n",
      "[LightGBM] [Info] Start training from score 4588.531116\n",
      "CPU times: total: 3.67 s\n",
      "Wall time: 1.03 s\n"
     ]
    },
    {
     "data": {
      "text/html": [
       "<style>#sk-container-id-1 {color: black;}#sk-container-id-1 pre{padding: 0;}#sk-container-id-1 div.sk-toggleable {background-color: white;}#sk-container-id-1 label.sk-toggleable__label {cursor: pointer;display: block;width: 100%;margin-bottom: 0;padding: 0.3em;box-sizing: border-box;text-align: center;}#sk-container-id-1 label.sk-toggleable__label-arrow:before {content: \"▸\";float: left;margin-right: 0.25em;color: #696969;}#sk-container-id-1 label.sk-toggleable__label-arrow:hover:before {color: black;}#sk-container-id-1 div.sk-estimator:hover label.sk-toggleable__label-arrow:before {color: black;}#sk-container-id-1 div.sk-toggleable__content {max-height: 0;max-width: 0;overflow: hidden;text-align: left;background-color: #f0f8ff;}#sk-container-id-1 div.sk-toggleable__content pre {margin: 0.2em;color: black;border-radius: 0.25em;background-color: #f0f8ff;}#sk-container-id-1 input.sk-toggleable__control:checked~div.sk-toggleable__content {max-height: 200px;max-width: 100%;overflow: auto;}#sk-container-id-1 input.sk-toggleable__control:checked~label.sk-toggleable__label-arrow:before {content: \"▾\";}#sk-container-id-1 div.sk-estimator input.sk-toggleable__control:checked~label.sk-toggleable__label {background-color: #d4ebff;}#sk-container-id-1 div.sk-label input.sk-toggleable__control:checked~label.sk-toggleable__label {background-color: #d4ebff;}#sk-container-id-1 input.sk-hidden--visually {border: 0;clip: rect(1px 1px 1px 1px);clip: rect(1px, 1px, 1px, 1px);height: 1px;margin: -1px;overflow: hidden;padding: 0;position: absolute;width: 1px;}#sk-container-id-1 div.sk-estimator {font-family: monospace;background-color: #f0f8ff;border: 1px dotted black;border-radius: 0.25em;box-sizing: border-box;margin-bottom: 0.5em;}#sk-container-id-1 div.sk-estimator:hover {background-color: #d4ebff;}#sk-container-id-1 div.sk-parallel-item::after {content: \"\";width: 100%;border-bottom: 1px solid gray;flex-grow: 1;}#sk-container-id-1 div.sk-label:hover label.sk-toggleable__label {background-color: #d4ebff;}#sk-container-id-1 div.sk-serial::before {content: \"\";position: absolute;border-left: 1px solid gray;box-sizing: border-box;top: 0;bottom: 0;left: 50%;z-index: 0;}#sk-container-id-1 div.sk-serial {display: flex;flex-direction: column;align-items: center;background-color: white;padding-right: 0.2em;padding-left: 0.2em;position: relative;}#sk-container-id-1 div.sk-item {position: relative;z-index: 1;}#sk-container-id-1 div.sk-parallel {display: flex;align-items: stretch;justify-content: center;background-color: white;position: relative;}#sk-container-id-1 div.sk-item::before, #sk-container-id-1 div.sk-parallel-item::before {content: \"\";position: absolute;border-left: 1px solid gray;box-sizing: border-box;top: 0;bottom: 0;left: 50%;z-index: -1;}#sk-container-id-1 div.sk-parallel-item {display: flex;flex-direction: column;z-index: 1;position: relative;background-color: white;}#sk-container-id-1 div.sk-parallel-item:first-child::after {align-self: flex-end;width: 50%;}#sk-container-id-1 div.sk-parallel-item:last-child::after {align-self: flex-start;width: 50%;}#sk-container-id-1 div.sk-parallel-item:only-child::after {width: 0;}#sk-container-id-1 div.sk-dashed-wrapped {border: 1px dashed gray;margin: 0 0.4em 0.5em 0.4em;box-sizing: border-box;padding-bottom: 0.4em;background-color: white;}#sk-container-id-1 div.sk-label label {font-family: monospace;font-weight: bold;display: inline-block;line-height: 1.2em;}#sk-container-id-1 div.sk-label-container {text-align: center;}#sk-container-id-1 div.sk-container {/* jupyter's `normalize.less` sets `[hidden] { display: none; }` but bootstrap.min.css set `[hidden] { display: none !important; }` so we also need the `!important` here to be able to override the default hidden behavior on the sphinx rendered scikit-learn.org. See: https://github.com/scikit-learn/scikit-learn/issues/21755 */display: inline-block !important;position: relative;}#sk-container-id-1 div.sk-text-repr-fallback {display: none;}</style><div id=\"sk-container-id-1\" class=\"sk-top-container\"><div class=\"sk-text-repr-fallback\"><pre>LGBMRegressor(categorical_feature=[&#x27;vehicle_type&#x27;, &#x27;gearbox&#x27;, &#x27;model&#x27;,\n",
       "                                   &#x27;fuel_type&#x27;, &#x27;brand&#x27;, &#x27;repaired&#x27;,\n",
       "                                   &#x27;registration_month&#x27;])</pre><b>In a Jupyter environment, please rerun this cell to show the HTML representation or trust the notebook. <br />On GitHub, the HTML representation is unable to render, please try loading this page with nbviewer.org.</b></div><div class=\"sk-container\" hidden><div class=\"sk-item\"><div class=\"sk-estimator sk-toggleable\"><input class=\"sk-toggleable__control sk-hidden--visually\" id=\"sk-estimator-id-1\" type=\"checkbox\" checked><label for=\"sk-estimator-id-1\" class=\"sk-toggleable__label sk-toggleable__label-arrow\">LGBMRegressor</label><div class=\"sk-toggleable__content\"><pre>LGBMRegressor(categorical_feature=[&#x27;vehicle_type&#x27;, &#x27;gearbox&#x27;, &#x27;model&#x27;,\n",
       "                                   &#x27;fuel_type&#x27;, &#x27;brand&#x27;, &#x27;repaired&#x27;,\n",
       "                                   &#x27;registration_month&#x27;])</pre></div></div></div></div></div>"
      ],
      "text/plain": [
       "LGBMRegressor(categorical_feature=['vehicle_type', 'gearbox', 'model',\n",
       "                                   'fuel_type', 'brand', 'repaired',\n",
       "                                   'registration_month'])"
      ]
     },
     "execution_count": 63,
     "metadata": {},
     "output_type": "execute_result"
    }
   ],
   "source": [
    "%%time\n",
    "\n",
    "model_lgb_noparam = LGBMRegressor(categorical_feature=categorical_data)\n",
    "model_lgb_noparam.fit(X_train, y_train)"
   ]
  },
  {
   "cell_type": "code",
   "execution_count": 64,
   "metadata": {},
   "outputs": [
    {
     "name": "stdout",
     "output_type": "stream",
     "text": [
      "RMSE = 1628.7395883887311\n",
      "CPU times: total: 828 ms\n",
      "Wall time: 216 ms\n"
     ]
    }
   ],
   "source": [
    "%%time\n",
    "\n",
    "predictions_lgb = model_lgb_noparam.predict(X_valid)\n",
    "rse_lgb = mean_squared_error(y_valid, predictions_lgb, squared=False) \n",
    "print('RMSE =', rse_lgb)"
   ]
  },
  {
   "cell_type": "markdown",
   "metadata": {},
   "source": [
    "### lightgbm.LGBMRegressor_2"
   ]
  },
  {
   "cell_type": "code",
   "execution_count": 65,
   "metadata": {},
   "outputs": [],
   "source": [
    "parameters_lgb = {\n",
    "        'categorical_feature': categorical_data,\n",
    "        'task': 'train', \n",
    "        'boosting': 'gbdt',\n",
    "        'objective': 'regression',\n",
    "        'num_leaves': 10,\n",
    "        'learnnig_rage': 0.05,\n",
    "        'metric': 'l2',\n",
    "        'verbose': -1\n",
    "    }"
   ]
  },
  {
   "cell_type": "code",
   "execution_count": 66,
   "metadata": {},
   "outputs": [
    {
     "name": "stdout",
     "output_type": "stream",
     "text": [
      "CPU times: total: 2.58 s\n",
      "Wall time: 722 ms\n"
     ]
    },
    {
     "data": {
      "text/html": [
       "<style>#sk-container-id-2 {color: black;}#sk-container-id-2 pre{padding: 0;}#sk-container-id-2 div.sk-toggleable {background-color: white;}#sk-container-id-2 label.sk-toggleable__label {cursor: pointer;display: block;width: 100%;margin-bottom: 0;padding: 0.3em;box-sizing: border-box;text-align: center;}#sk-container-id-2 label.sk-toggleable__label-arrow:before {content: \"▸\";float: left;margin-right: 0.25em;color: #696969;}#sk-container-id-2 label.sk-toggleable__label-arrow:hover:before {color: black;}#sk-container-id-2 div.sk-estimator:hover label.sk-toggleable__label-arrow:before {color: black;}#sk-container-id-2 div.sk-toggleable__content {max-height: 0;max-width: 0;overflow: hidden;text-align: left;background-color: #f0f8ff;}#sk-container-id-2 div.sk-toggleable__content pre {margin: 0.2em;color: black;border-radius: 0.25em;background-color: #f0f8ff;}#sk-container-id-2 input.sk-toggleable__control:checked~div.sk-toggleable__content {max-height: 200px;max-width: 100%;overflow: auto;}#sk-container-id-2 input.sk-toggleable__control:checked~label.sk-toggleable__label-arrow:before {content: \"▾\";}#sk-container-id-2 div.sk-estimator input.sk-toggleable__control:checked~label.sk-toggleable__label {background-color: #d4ebff;}#sk-container-id-2 div.sk-label input.sk-toggleable__control:checked~label.sk-toggleable__label {background-color: #d4ebff;}#sk-container-id-2 input.sk-hidden--visually {border: 0;clip: rect(1px 1px 1px 1px);clip: rect(1px, 1px, 1px, 1px);height: 1px;margin: -1px;overflow: hidden;padding: 0;position: absolute;width: 1px;}#sk-container-id-2 div.sk-estimator {font-family: monospace;background-color: #f0f8ff;border: 1px dotted black;border-radius: 0.25em;box-sizing: border-box;margin-bottom: 0.5em;}#sk-container-id-2 div.sk-estimator:hover {background-color: #d4ebff;}#sk-container-id-2 div.sk-parallel-item::after {content: \"\";width: 100%;border-bottom: 1px solid gray;flex-grow: 1;}#sk-container-id-2 div.sk-label:hover label.sk-toggleable__label {background-color: #d4ebff;}#sk-container-id-2 div.sk-serial::before {content: \"\";position: absolute;border-left: 1px solid gray;box-sizing: border-box;top: 0;bottom: 0;left: 50%;z-index: 0;}#sk-container-id-2 div.sk-serial {display: flex;flex-direction: column;align-items: center;background-color: white;padding-right: 0.2em;padding-left: 0.2em;position: relative;}#sk-container-id-2 div.sk-item {position: relative;z-index: 1;}#sk-container-id-2 div.sk-parallel {display: flex;align-items: stretch;justify-content: center;background-color: white;position: relative;}#sk-container-id-2 div.sk-item::before, #sk-container-id-2 div.sk-parallel-item::before {content: \"\";position: absolute;border-left: 1px solid gray;box-sizing: border-box;top: 0;bottom: 0;left: 50%;z-index: -1;}#sk-container-id-2 div.sk-parallel-item {display: flex;flex-direction: column;z-index: 1;position: relative;background-color: white;}#sk-container-id-2 div.sk-parallel-item:first-child::after {align-self: flex-end;width: 50%;}#sk-container-id-2 div.sk-parallel-item:last-child::after {align-self: flex-start;width: 50%;}#sk-container-id-2 div.sk-parallel-item:only-child::after {width: 0;}#sk-container-id-2 div.sk-dashed-wrapped {border: 1px dashed gray;margin: 0 0.4em 0.5em 0.4em;box-sizing: border-box;padding-bottom: 0.4em;background-color: white;}#sk-container-id-2 div.sk-label label {font-family: monospace;font-weight: bold;display: inline-block;line-height: 1.2em;}#sk-container-id-2 div.sk-label-container {text-align: center;}#sk-container-id-2 div.sk-container {/* jupyter's `normalize.less` sets `[hidden] { display: none; }` but bootstrap.min.css set `[hidden] { display: none !important; }` so we also need the `!important` here to be able to override the default hidden behavior on the sphinx rendered scikit-learn.org. See: https://github.com/scikit-learn/scikit-learn/issues/21755 */display: inline-block !important;position: relative;}#sk-container-id-2 div.sk-text-repr-fallback {display: none;}</style><div id=\"sk-container-id-2\" class=\"sk-top-container\"><div class=\"sk-text-repr-fallback\"><pre>LGBMRegressor(boosting=&#x27;gbdt&#x27;,\n",
       "              categorical_feature=[&#x27;vehicle_type&#x27;, &#x27;gearbox&#x27;, &#x27;model&#x27;,\n",
       "                                   &#x27;fuel_type&#x27;, &#x27;brand&#x27;, &#x27;repaired&#x27;,\n",
       "                                   &#x27;registration_month&#x27;],\n",
       "              learnnig_rage=0.05, metric=&#x27;l2&#x27;, num_leaves=10,\n",
       "              objective=&#x27;regression&#x27;, task=&#x27;train&#x27;, verbose=-1)</pre><b>In a Jupyter environment, please rerun this cell to show the HTML representation or trust the notebook. <br />On GitHub, the HTML representation is unable to render, please try loading this page with nbviewer.org.</b></div><div class=\"sk-container\" hidden><div class=\"sk-item\"><div class=\"sk-estimator sk-toggleable\"><input class=\"sk-toggleable__control sk-hidden--visually\" id=\"sk-estimator-id-2\" type=\"checkbox\" checked><label for=\"sk-estimator-id-2\" class=\"sk-toggleable__label sk-toggleable__label-arrow\">LGBMRegressor</label><div class=\"sk-toggleable__content\"><pre>LGBMRegressor(boosting=&#x27;gbdt&#x27;,\n",
       "              categorical_feature=[&#x27;vehicle_type&#x27;, &#x27;gearbox&#x27;, &#x27;model&#x27;,\n",
       "                                   &#x27;fuel_type&#x27;, &#x27;brand&#x27;, &#x27;repaired&#x27;,\n",
       "                                   &#x27;registration_month&#x27;],\n",
       "              learnnig_rage=0.05, metric=&#x27;l2&#x27;, num_leaves=10,\n",
       "              objective=&#x27;regression&#x27;, task=&#x27;train&#x27;, verbose=-1)</pre></div></div></div></div></div>"
      ],
      "text/plain": [
       "LGBMRegressor(boosting='gbdt',\n",
       "              categorical_feature=['vehicle_type', 'gearbox', 'model',\n",
       "                                   'fuel_type', 'brand', 'repaired',\n",
       "                                   'registration_month'],\n",
       "              learnnig_rage=0.05, metric='l2', num_leaves=10,\n",
       "              objective='regression', task='train', verbose=-1)"
      ]
     },
     "execution_count": 66,
     "metadata": {},
     "output_type": "execute_result"
    }
   ],
   "source": [
    "%%time\n",
    "\n",
    "model_lgb = LGBMRegressor(**parameters_lgb)\n",
    "model_lgb.fit(X_train, y_train)"
   ]
  },
  {
   "cell_type": "code",
   "execution_count": 67,
   "metadata": {},
   "outputs": [
    {
     "name": "stdout",
     "output_type": "stream",
     "text": [
      "RMSE = 1731.4737757967396\n",
      "CPU times: total: 531 ms\n",
      "Wall time: 143 ms\n"
     ]
    }
   ],
   "source": [
    "%%time\n",
    "\n",
    "predictions_lgb_2 = model_lgb.predict(X_valid)\n",
    "rse_lgb_2 = mean_squared_error(y_valid, predictions_lgb_2, squared=False) \n",
    "print('RMSE =', rse_lgb_2)"
   ]
  },
  {
   "cell_type": "markdown",
   "metadata": {},
   "source": [
    "### One Hot Encoder"
   ]
  },
  {
   "cell_type": "markdown",
   "metadata": {},
   "source": [
    "The following models require preprocessing of categorical features"
   ]
  },
  {
   "cell_type": "code",
   "execution_count": 68,
   "metadata": {},
   "outputs": [],
   "source": [
    "# warnings.filterwarnings(\"ignore\")\n",
    "\n",
    "ohe_features = X_train.select_dtypes(include='category').columns.to_list()\n",
    "\n",
    "encoder_ohe = OneHotEncoder(drop='first', handle_unknown='ignore', sparse=False)\n",
    "\n",
    "encoder_ohe.fit(X_train[ohe_features])\n",
    "\n",
    "X_train_ohe = X_train.copy()\n",
    "X_valid_ohe = X_valid.copy()\n",
    "X_test_ohe = X_test.copy()\n",
    "\n",
    "X_train_ohe[encoder_ohe.get_feature_names_out()] = encoder_ohe.transform(X_train_ohe[ohe_features])\n",
    "X_valid_ohe[encoder_ohe.get_feature_names_out()] = encoder_ohe.transform(X_valid_ohe[ohe_features])\n",
    "X_test_ohe[encoder_ohe.get_feature_names_out()] = encoder_ohe.transform(X_test_ohe[ohe_features])\n",
    "\n",
    "X_train_ohe = X_train_ohe.drop(ohe_features, axis=1)\n",
    "X_valid_ohe = X_valid_ohe.drop(ohe_features, axis=1)\n",
    "X_test_ohe = X_test_ohe.drop(ohe_features, axis=1)"
   ]
  },
  {
   "cell_type": "code",
   "execution_count": 69,
   "metadata": {},
   "outputs": [
    {
     "data": {
      "text/html": [
       "<div>\n",
       "<style scoped>\n",
       "    .dataframe tbody tr th:only-of-type {\n",
       "        vertical-align: middle;\n",
       "    }\n",
       "\n",
       "    .dataframe tbody tr th {\n",
       "        vertical-align: top;\n",
       "    }\n",
       "\n",
       "    .dataframe thead th {\n",
       "        text-align: right;\n",
       "    }\n",
       "</style>\n",
       "<table border=\"1\" class=\"dataframe\">\n",
       "  <thead>\n",
       "    <tr style=\"text-align: right;\">\n",
       "      <th></th>\n",
       "      <th>registration_year</th>\n",
       "      <th>power</th>\n",
       "      <th>kilometer</th>\n",
       "      <th>vehicle_type_convertible</th>\n",
       "      <th>vehicle_type_coupe</th>\n",
       "      <th>vehicle_type_other</th>\n",
       "      <th>vehicle_type_sedan</th>\n",
       "      <th>vehicle_type_small</th>\n",
       "      <th>vehicle_type_suv</th>\n",
       "      <th>vehicle_type_wagon</th>\n",
       "      <th>...</th>\n",
       "      <th>brand_skoda</th>\n",
       "      <th>brand_smart</th>\n",
       "      <th>brand_subaru</th>\n",
       "      <th>brand_suzuki</th>\n",
       "      <th>brand_toyota</th>\n",
       "      <th>brand_trabant</th>\n",
       "      <th>brand_volkswagen</th>\n",
       "      <th>brand_volvo</th>\n",
       "      <th>repaired_unknown</th>\n",
       "      <th>repaired_yes</th>\n",
       "    </tr>\n",
       "  </thead>\n",
       "  <tbody>\n",
       "    <tr>\n",
       "      <th>201268</th>\n",
       "      <td>1995</td>\n",
       "      <td>150</td>\n",
       "      <td>150000</td>\n",
       "      <td>0.0</td>\n",
       "      <td>0.0</td>\n",
       "      <td>0.0</td>\n",
       "      <td>1.0</td>\n",
       "      <td>0.0</td>\n",
       "      <td>0.0</td>\n",
       "      <td>0.0</td>\n",
       "      <td>...</td>\n",
       "      <td>0.0</td>\n",
       "      <td>0.0</td>\n",
       "      <td>0.0</td>\n",
       "      <td>0.0</td>\n",
       "      <td>0.0</td>\n",
       "      <td>0.0</td>\n",
       "      <td>0.0</td>\n",
       "      <td>0.0</td>\n",
       "      <td>0.0</td>\n",
       "      <td>1.0</td>\n",
       "    </tr>\n",
       "    <tr>\n",
       "      <th>162763</th>\n",
       "      <td>2011</td>\n",
       "      <td>150</td>\n",
       "      <td>30000</td>\n",
       "      <td>0.0</td>\n",
       "      <td>0.0</td>\n",
       "      <td>0.0</td>\n",
       "      <td>1.0</td>\n",
       "      <td>0.0</td>\n",
       "      <td>0.0</td>\n",
       "      <td>0.0</td>\n",
       "      <td>...</td>\n",
       "      <td>0.0</td>\n",
       "      <td>0.0</td>\n",
       "      <td>0.0</td>\n",
       "      <td>0.0</td>\n",
       "      <td>0.0</td>\n",
       "      <td>0.0</td>\n",
       "      <td>0.0</td>\n",
       "      <td>0.0</td>\n",
       "      <td>0.0</td>\n",
       "      <td>0.0</td>\n",
       "    </tr>\n",
       "    <tr>\n",
       "      <th>196490</th>\n",
       "      <td>2003</td>\n",
       "      <td>177</td>\n",
       "      <td>150000</td>\n",
       "      <td>0.0</td>\n",
       "      <td>0.0</td>\n",
       "      <td>0.0</td>\n",
       "      <td>0.0</td>\n",
       "      <td>0.0</td>\n",
       "      <td>0.0</td>\n",
       "      <td>0.0</td>\n",
       "      <td>...</td>\n",
       "      <td>0.0</td>\n",
       "      <td>0.0</td>\n",
       "      <td>0.0</td>\n",
       "      <td>0.0</td>\n",
       "      <td>0.0</td>\n",
       "      <td>0.0</td>\n",
       "      <td>0.0</td>\n",
       "      <td>0.0</td>\n",
       "      <td>1.0</td>\n",
       "      <td>0.0</td>\n",
       "    </tr>\n",
       "    <tr>\n",
       "      <th>100802</th>\n",
       "      <td>2009</td>\n",
       "      <td>170</td>\n",
       "      <td>150000</td>\n",
       "      <td>0.0</td>\n",
       "      <td>0.0</td>\n",
       "      <td>0.0</td>\n",
       "      <td>0.0</td>\n",
       "      <td>0.0</td>\n",
       "      <td>0.0</td>\n",
       "      <td>1.0</td>\n",
       "      <td>...</td>\n",
       "      <td>0.0</td>\n",
       "      <td>0.0</td>\n",
       "      <td>0.0</td>\n",
       "      <td>0.0</td>\n",
       "      <td>0.0</td>\n",
       "      <td>0.0</td>\n",
       "      <td>0.0</td>\n",
       "      <td>0.0</td>\n",
       "      <td>0.0</td>\n",
       "      <td>0.0</td>\n",
       "    </tr>\n",
       "    <tr>\n",
       "      <th>302015</th>\n",
       "      <td>2004</td>\n",
       "      <td>0</td>\n",
       "      <td>100000</td>\n",
       "      <td>0.0</td>\n",
       "      <td>0.0</td>\n",
       "      <td>0.0</td>\n",
       "      <td>1.0</td>\n",
       "      <td>0.0</td>\n",
       "      <td>0.0</td>\n",
       "      <td>0.0</td>\n",
       "      <td>...</td>\n",
       "      <td>0.0</td>\n",
       "      <td>0.0</td>\n",
       "      <td>0.0</td>\n",
       "      <td>0.0</td>\n",
       "      <td>0.0</td>\n",
       "      <td>0.0</td>\n",
       "      <td>0.0</td>\n",
       "      <td>0.0</td>\n",
       "      <td>0.0</td>\n",
       "      <td>0.0</td>\n",
       "    </tr>\n",
       "  </tbody>\n",
       "</table>\n",
       "<p>5 rows × 319 columns</p>\n",
       "</div>"
      ],
      "text/plain": [
       "        registration_year  power  kilometer  vehicle_type_convertible  \\\n",
       "201268               1995    150     150000                       0.0   \n",
       "162763               2011    150      30000                       0.0   \n",
       "196490               2003    177     150000                       0.0   \n",
       "100802               2009    170     150000                       0.0   \n",
       "302015               2004      0     100000                       0.0   \n",
       "\n",
       "        vehicle_type_coupe  vehicle_type_other  vehicle_type_sedan  \\\n",
       "201268                 0.0                 0.0                 1.0   \n",
       "162763                 0.0                 0.0                 1.0   \n",
       "196490                 0.0                 0.0                 0.0   \n",
       "100802                 0.0                 0.0                 0.0   \n",
       "302015                 0.0                 0.0                 1.0   \n",
       "\n",
       "        vehicle_type_small  vehicle_type_suv  vehicle_type_wagon  ...  \\\n",
       "201268                 0.0               0.0                 0.0  ...   \n",
       "162763                 0.0               0.0                 0.0  ...   \n",
       "196490                 0.0               0.0                 0.0  ...   \n",
       "100802                 0.0               0.0                 1.0  ...   \n",
       "302015                 0.0               0.0                 0.0  ...   \n",
       "\n",
       "        brand_skoda  brand_smart  brand_subaru  brand_suzuki  brand_toyota  \\\n",
       "201268          0.0          0.0           0.0           0.0           0.0   \n",
       "162763          0.0          0.0           0.0           0.0           0.0   \n",
       "196490          0.0          0.0           0.0           0.0           0.0   \n",
       "100802          0.0          0.0           0.0           0.0           0.0   \n",
       "302015          0.0          0.0           0.0           0.0           0.0   \n",
       "\n",
       "        brand_trabant  brand_volkswagen  brand_volvo  repaired_unknown  \\\n",
       "201268            0.0               0.0          0.0               0.0   \n",
       "162763            0.0               0.0          0.0               0.0   \n",
       "196490            0.0               0.0          0.0               1.0   \n",
       "100802            0.0               0.0          0.0               0.0   \n",
       "302015            0.0               0.0          0.0               0.0   \n",
       "\n",
       "        repaired_yes  \n",
       "201268           1.0  \n",
       "162763           0.0  \n",
       "196490           0.0  \n",
       "100802           0.0  \n",
       "302015           0.0  \n",
       "\n",
       "[5 rows x 319 columns]"
      ]
     },
     "execution_count": 69,
     "metadata": {},
     "output_type": "execute_result"
    }
   ],
   "source": [
    "X_train_ohe.head()"
   ]
  },
  {
   "cell_type": "markdown",
   "metadata": {},
   "source": [
    "### RandomForestRegressor"
   ]
  },
  {
   "cell_type": "code",
   "execution_count": 70,
   "metadata": {},
   "outputs": [],
   "source": [
    "parameters_forest = {\n",
    "    'n_estimators': 50,\n",
    "#     'max_features': 20,\n",
    "    'max_depth': 10,\n",
    "    'random_state': state\n",
    "}"
   ]
  },
  {
   "cell_type": "code",
   "execution_count": 71,
   "metadata": {},
   "outputs": [
    {
     "name": "stdout",
     "output_type": "stream",
     "text": [
      "CPU times: total: 2min 17s\n",
      "Wall time: 2min 20s\n"
     ]
    },
    {
     "data": {
      "text/html": [
       "<style>#sk-container-id-3 {color: black;}#sk-container-id-3 pre{padding: 0;}#sk-container-id-3 div.sk-toggleable {background-color: white;}#sk-container-id-3 label.sk-toggleable__label {cursor: pointer;display: block;width: 100%;margin-bottom: 0;padding: 0.3em;box-sizing: border-box;text-align: center;}#sk-container-id-3 label.sk-toggleable__label-arrow:before {content: \"▸\";float: left;margin-right: 0.25em;color: #696969;}#sk-container-id-3 label.sk-toggleable__label-arrow:hover:before {color: black;}#sk-container-id-3 div.sk-estimator:hover label.sk-toggleable__label-arrow:before {color: black;}#sk-container-id-3 div.sk-toggleable__content {max-height: 0;max-width: 0;overflow: hidden;text-align: left;background-color: #f0f8ff;}#sk-container-id-3 div.sk-toggleable__content pre {margin: 0.2em;color: black;border-radius: 0.25em;background-color: #f0f8ff;}#sk-container-id-3 input.sk-toggleable__control:checked~div.sk-toggleable__content {max-height: 200px;max-width: 100%;overflow: auto;}#sk-container-id-3 input.sk-toggleable__control:checked~label.sk-toggleable__label-arrow:before {content: \"▾\";}#sk-container-id-3 div.sk-estimator input.sk-toggleable__control:checked~label.sk-toggleable__label {background-color: #d4ebff;}#sk-container-id-3 div.sk-label input.sk-toggleable__control:checked~label.sk-toggleable__label {background-color: #d4ebff;}#sk-container-id-3 input.sk-hidden--visually {border: 0;clip: rect(1px 1px 1px 1px);clip: rect(1px, 1px, 1px, 1px);height: 1px;margin: -1px;overflow: hidden;padding: 0;position: absolute;width: 1px;}#sk-container-id-3 div.sk-estimator {font-family: monospace;background-color: #f0f8ff;border: 1px dotted black;border-radius: 0.25em;box-sizing: border-box;margin-bottom: 0.5em;}#sk-container-id-3 div.sk-estimator:hover {background-color: #d4ebff;}#sk-container-id-3 div.sk-parallel-item::after {content: \"\";width: 100%;border-bottom: 1px solid gray;flex-grow: 1;}#sk-container-id-3 div.sk-label:hover label.sk-toggleable__label {background-color: #d4ebff;}#sk-container-id-3 div.sk-serial::before {content: \"\";position: absolute;border-left: 1px solid gray;box-sizing: border-box;top: 0;bottom: 0;left: 50%;z-index: 0;}#sk-container-id-3 div.sk-serial {display: flex;flex-direction: column;align-items: center;background-color: white;padding-right: 0.2em;padding-left: 0.2em;position: relative;}#sk-container-id-3 div.sk-item {position: relative;z-index: 1;}#sk-container-id-3 div.sk-parallel {display: flex;align-items: stretch;justify-content: center;background-color: white;position: relative;}#sk-container-id-3 div.sk-item::before, #sk-container-id-3 div.sk-parallel-item::before {content: \"\";position: absolute;border-left: 1px solid gray;box-sizing: border-box;top: 0;bottom: 0;left: 50%;z-index: -1;}#sk-container-id-3 div.sk-parallel-item {display: flex;flex-direction: column;z-index: 1;position: relative;background-color: white;}#sk-container-id-3 div.sk-parallel-item:first-child::after {align-self: flex-end;width: 50%;}#sk-container-id-3 div.sk-parallel-item:last-child::after {align-self: flex-start;width: 50%;}#sk-container-id-3 div.sk-parallel-item:only-child::after {width: 0;}#sk-container-id-3 div.sk-dashed-wrapped {border: 1px dashed gray;margin: 0 0.4em 0.5em 0.4em;box-sizing: border-box;padding-bottom: 0.4em;background-color: white;}#sk-container-id-3 div.sk-label label {font-family: monospace;font-weight: bold;display: inline-block;line-height: 1.2em;}#sk-container-id-3 div.sk-label-container {text-align: center;}#sk-container-id-3 div.sk-container {/* jupyter's `normalize.less` sets `[hidden] { display: none; }` but bootstrap.min.css set `[hidden] { display: none !important; }` so we also need the `!important` here to be able to override the default hidden behavior on the sphinx rendered scikit-learn.org. See: https://github.com/scikit-learn/scikit-learn/issues/21755 */display: inline-block !important;position: relative;}#sk-container-id-3 div.sk-text-repr-fallback {display: none;}</style><div id=\"sk-container-id-3\" class=\"sk-top-container\"><div class=\"sk-text-repr-fallback\"><pre>RandomForestRegressor(max_depth=10, n_estimators=50, random_state=42)</pre><b>In a Jupyter environment, please rerun this cell to show the HTML representation or trust the notebook. <br />On GitHub, the HTML representation is unable to render, please try loading this page with nbviewer.org.</b></div><div class=\"sk-container\" hidden><div class=\"sk-item\"><div class=\"sk-estimator sk-toggleable\"><input class=\"sk-toggleable__control sk-hidden--visually\" id=\"sk-estimator-id-3\" type=\"checkbox\" checked><label for=\"sk-estimator-id-3\" class=\"sk-toggleable__label sk-toggleable__label-arrow\">RandomForestRegressor</label><div class=\"sk-toggleable__content\"><pre>RandomForestRegressor(max_depth=10, n_estimators=50, random_state=42)</pre></div></div></div></div></div>"
      ],
      "text/plain": [
       "RandomForestRegressor(max_depth=10, n_estimators=50, random_state=42)"
      ]
     },
     "execution_count": 71,
     "metadata": {},
     "output_type": "execute_result"
    }
   ],
   "source": [
    "%%time\n",
    "\n",
    "model_forest = RandomForestRegressor(**parameters_forest)\n",
    "model_forest.fit(X_train_ohe, y_train)"
   ]
  },
  {
   "cell_type": "code",
   "execution_count": 72,
   "metadata": {},
   "outputs": [
    {
     "name": "stdout",
     "output_type": "stream",
     "text": [
      "RMSE = 1901.1816870171638\n",
      "CPU times: total: 406 ms\n",
      "Wall time: 416 ms\n"
     ]
    }
   ],
   "source": [
    "%%time\n",
    "\n",
    "predictions_forest = model_forest.predict(X_valid_ohe)\n",
    "rse_forest = mean_squared_error(y_valid, predictions_forest, squared=False) \n",
    "print('RMSE =', rse_forest)"
   ]
  },
  {
   "cell_type": "markdown",
   "metadata": {},
   "source": [
    "### StandardScaler"
   ]
  },
  {
   "cell_type": "markdown",
   "metadata": {},
   "source": [
    "The following model will require data scaling"
   ]
  },
  {
   "cell_type": "code",
   "execution_count": 73,
   "metadata": {},
   "outputs": [],
   "source": [
    "num_cols = ['registration_year', 'power', 'kilometer']\n",
    "\n",
    "scaler = StandardScaler()\n",
    "scaler.fit(X_train_ohe[num_cols])\n",
    "X_train_ohe[num_cols] = scaler.transform(X_train_ohe[num_cols])\n",
    "X_valid_ohe[num_cols] = scaler.transform(X_valid_ohe[num_cols]) \n",
    "X_test_ohe[num_cols] = scaler.transform(X_test_ohe[num_cols])"
   ]
  },
  {
   "cell_type": "code",
   "execution_count": 74,
   "metadata": {},
   "outputs": [
    {
     "data": {
      "text/html": [
       "<div>\n",
       "<style scoped>\n",
       "    .dataframe tbody tr th:only-of-type {\n",
       "        vertical-align: middle;\n",
       "    }\n",
       "\n",
       "    .dataframe tbody tr th {\n",
       "        vertical-align: top;\n",
       "    }\n",
       "\n",
       "    .dataframe thead th {\n",
       "        text-align: right;\n",
       "    }\n",
       "</style>\n",
       "<table border=\"1\" class=\"dataframe\">\n",
       "  <thead>\n",
       "    <tr style=\"text-align: right;\">\n",
       "      <th></th>\n",
       "      <th>registration_year</th>\n",
       "      <th>power</th>\n",
       "      <th>kilometer</th>\n",
       "      <th>vehicle_type_convertible</th>\n",
       "      <th>vehicle_type_coupe</th>\n",
       "      <th>vehicle_type_other</th>\n",
       "      <th>vehicle_type_sedan</th>\n",
       "      <th>vehicle_type_small</th>\n",
       "      <th>vehicle_type_suv</th>\n",
       "      <th>vehicle_type_wagon</th>\n",
       "      <th>...</th>\n",
       "      <th>brand_skoda</th>\n",
       "      <th>brand_smart</th>\n",
       "      <th>brand_subaru</th>\n",
       "      <th>brand_suzuki</th>\n",
       "      <th>brand_toyota</th>\n",
       "      <th>brand_trabant</th>\n",
       "      <th>brand_volkswagen</th>\n",
       "      <th>brand_volvo</th>\n",
       "      <th>repaired_unknown</th>\n",
       "      <th>repaired_yes</th>\n",
       "    </tr>\n",
       "  </thead>\n",
       "  <tbody>\n",
       "    <tr>\n",
       "      <th>201268</th>\n",
       "      <td>-1.228764</td>\n",
       "      <td>0.666675</td>\n",
       "      <td>0.577227</td>\n",
       "      <td>0.0</td>\n",
       "      <td>0.0</td>\n",
       "      <td>0.0</td>\n",
       "      <td>1.0</td>\n",
       "      <td>0.0</td>\n",
       "      <td>0.0</td>\n",
       "      <td>0.0</td>\n",
       "      <td>...</td>\n",
       "      <td>0.0</td>\n",
       "      <td>0.0</td>\n",
       "      <td>0.0</td>\n",
       "      <td>0.0</td>\n",
       "      <td>0.0</td>\n",
       "      <td>0.0</td>\n",
       "      <td>0.0</td>\n",
       "      <td>0.0</td>\n",
       "      <td>0.0</td>\n",
       "      <td>1.0</td>\n",
       "    </tr>\n",
       "    <tr>\n",
       "      <th>162763</th>\n",
       "      <td>1.297118</td>\n",
       "      <td>0.666675</td>\n",
       "      <td>-2.656099</td>\n",
       "      <td>0.0</td>\n",
       "      <td>0.0</td>\n",
       "      <td>0.0</td>\n",
       "      <td>1.0</td>\n",
       "      <td>0.0</td>\n",
       "      <td>0.0</td>\n",
       "      <td>0.0</td>\n",
       "      <td>...</td>\n",
       "      <td>0.0</td>\n",
       "      <td>0.0</td>\n",
       "      <td>0.0</td>\n",
       "      <td>0.0</td>\n",
       "      <td>0.0</td>\n",
       "      <td>0.0</td>\n",
       "      <td>0.0</td>\n",
       "      <td>0.0</td>\n",
       "      <td>0.0</td>\n",
       "      <td>0.0</td>\n",
       "    </tr>\n",
       "    <tr>\n",
       "      <th>196490</th>\n",
       "      <td>0.034177</td>\n",
       "      <td>1.100815</td>\n",
       "      <td>0.577227</td>\n",
       "      <td>0.0</td>\n",
       "      <td>0.0</td>\n",
       "      <td>0.0</td>\n",
       "      <td>0.0</td>\n",
       "      <td>0.0</td>\n",
       "      <td>0.0</td>\n",
       "      <td>0.0</td>\n",
       "      <td>...</td>\n",
       "      <td>0.0</td>\n",
       "      <td>0.0</td>\n",
       "      <td>0.0</td>\n",
       "      <td>0.0</td>\n",
       "      <td>0.0</td>\n",
       "      <td>0.0</td>\n",
       "      <td>0.0</td>\n",
       "      <td>0.0</td>\n",
       "      <td>1.0</td>\n",
       "      <td>0.0</td>\n",
       "    </tr>\n",
       "    <tr>\n",
       "      <th>100802</th>\n",
       "      <td>0.981382</td>\n",
       "      <td>0.988260</td>\n",
       "      <td>0.577227</td>\n",
       "      <td>0.0</td>\n",
       "      <td>0.0</td>\n",
       "      <td>0.0</td>\n",
       "      <td>0.0</td>\n",
       "      <td>0.0</td>\n",
       "      <td>0.0</td>\n",
       "      <td>1.0</td>\n",
       "      <td>...</td>\n",
       "      <td>0.0</td>\n",
       "      <td>0.0</td>\n",
       "      <td>0.0</td>\n",
       "      <td>0.0</td>\n",
       "      <td>0.0</td>\n",
       "      <td>0.0</td>\n",
       "      <td>0.0</td>\n",
       "      <td>0.0</td>\n",
       "      <td>0.0</td>\n",
       "      <td>0.0</td>\n",
       "    </tr>\n",
       "    <tr>\n",
       "      <th>302015</th>\n",
       "      <td>0.192044</td>\n",
       "      <td>-1.745213</td>\n",
       "      <td>-0.769992</td>\n",
       "      <td>0.0</td>\n",
       "      <td>0.0</td>\n",
       "      <td>0.0</td>\n",
       "      <td>1.0</td>\n",
       "      <td>0.0</td>\n",
       "      <td>0.0</td>\n",
       "      <td>0.0</td>\n",
       "      <td>...</td>\n",
       "      <td>0.0</td>\n",
       "      <td>0.0</td>\n",
       "      <td>0.0</td>\n",
       "      <td>0.0</td>\n",
       "      <td>0.0</td>\n",
       "      <td>0.0</td>\n",
       "      <td>0.0</td>\n",
       "      <td>0.0</td>\n",
       "      <td>0.0</td>\n",
       "      <td>0.0</td>\n",
       "    </tr>\n",
       "  </tbody>\n",
       "</table>\n",
       "<p>5 rows × 319 columns</p>\n",
       "</div>"
      ],
      "text/plain": [
       "        registration_year     power  kilometer  vehicle_type_convertible  \\\n",
       "201268          -1.228764  0.666675   0.577227                       0.0   \n",
       "162763           1.297118  0.666675  -2.656099                       0.0   \n",
       "196490           0.034177  1.100815   0.577227                       0.0   \n",
       "100802           0.981382  0.988260   0.577227                       0.0   \n",
       "302015           0.192044 -1.745213  -0.769992                       0.0   \n",
       "\n",
       "        vehicle_type_coupe  vehicle_type_other  vehicle_type_sedan  \\\n",
       "201268                 0.0                 0.0                 1.0   \n",
       "162763                 0.0                 0.0                 1.0   \n",
       "196490                 0.0                 0.0                 0.0   \n",
       "100802                 0.0                 0.0                 0.0   \n",
       "302015                 0.0                 0.0                 1.0   \n",
       "\n",
       "        vehicle_type_small  vehicle_type_suv  vehicle_type_wagon  ...  \\\n",
       "201268                 0.0               0.0                 0.0  ...   \n",
       "162763                 0.0               0.0                 0.0  ...   \n",
       "196490                 0.0               0.0                 0.0  ...   \n",
       "100802                 0.0               0.0                 1.0  ...   \n",
       "302015                 0.0               0.0                 0.0  ...   \n",
       "\n",
       "        brand_skoda  brand_smart  brand_subaru  brand_suzuki  brand_toyota  \\\n",
       "201268          0.0          0.0           0.0           0.0           0.0   \n",
       "162763          0.0          0.0           0.0           0.0           0.0   \n",
       "196490          0.0          0.0           0.0           0.0           0.0   \n",
       "100802          0.0          0.0           0.0           0.0           0.0   \n",
       "302015          0.0          0.0           0.0           0.0           0.0   \n",
       "\n",
       "        brand_trabant  brand_volkswagen  brand_volvo  repaired_unknown  \\\n",
       "201268            0.0               0.0          0.0               0.0   \n",
       "162763            0.0               0.0          0.0               0.0   \n",
       "196490            0.0               0.0          0.0               1.0   \n",
       "100802            0.0               0.0          0.0               0.0   \n",
       "302015            0.0               0.0          0.0               0.0   \n",
       "\n",
       "        repaired_yes  \n",
       "201268           1.0  \n",
       "162763           0.0  \n",
       "196490           0.0  \n",
       "100802           0.0  \n",
       "302015           0.0  \n",
       "\n",
       "[5 rows x 319 columns]"
      ]
     },
     "execution_count": 74,
     "metadata": {},
     "output_type": "execute_result"
    }
   ],
   "source": [
    "X_train_ohe.head()"
   ]
  },
  {
   "cell_type": "markdown",
   "metadata": {},
   "source": [
    "### LinearRegression "
   ]
  },
  {
   "cell_type": "code",
   "execution_count": 75,
   "metadata": {},
   "outputs": [],
   "source": [
    "parameters_reg = {\n",
    "    'fit_intercept': [True, False],\n",
    "    'positive': [True, False],\n",
    "}"
   ]
  },
  {
   "cell_type": "code",
   "execution_count": 76,
   "metadata": {},
   "outputs": [
    {
     "name": "stdout",
     "output_type": "stream",
     "text": [
      "The best hyperparameters for Linear Regression:  {'positive': True, 'fit_intercept': False}\n",
      "CPU times: total: 7min 37s\n",
      "Wall time: 5min 52s\n"
     ]
    }
   ],
   "source": [
    "%%time\n",
    "\n",
    "model_reg = LinearRegression()\n",
    "\n",
    "scoring = make_scorer(mean_squared_error, squared=False)\n",
    "\n",
    "grid_reg = RandomizedSearchCV(\n",
    "    model_reg, param_distributions=parameters_reg, cv=5, n_iter=10, random_state=state, scoring=scoring)\n",
    "grid_reg.fit(X_train_ohe, y_train)\n",
    "best_params_reg = grid_reg.best_params_\n",
    "print('The best hyperparameters for Linear Regression: ', best_params_reg)"
   ]
  },
  {
   "cell_type": "code",
   "execution_count": 77,
   "metadata": {},
   "outputs": [
    {
     "name": "stdout",
     "output_type": "stream",
     "text": [
      "CPU times: total: 32.6 s\n",
      "Wall time: 32.7 s\n"
     ]
    },
    {
     "data": {
      "text/html": [
       "<style>#sk-container-id-4 {color: black;}#sk-container-id-4 pre{padding: 0;}#sk-container-id-4 div.sk-toggleable {background-color: white;}#sk-container-id-4 label.sk-toggleable__label {cursor: pointer;display: block;width: 100%;margin-bottom: 0;padding: 0.3em;box-sizing: border-box;text-align: center;}#sk-container-id-4 label.sk-toggleable__label-arrow:before {content: \"▸\";float: left;margin-right: 0.25em;color: #696969;}#sk-container-id-4 label.sk-toggleable__label-arrow:hover:before {color: black;}#sk-container-id-4 div.sk-estimator:hover label.sk-toggleable__label-arrow:before {color: black;}#sk-container-id-4 div.sk-toggleable__content {max-height: 0;max-width: 0;overflow: hidden;text-align: left;background-color: #f0f8ff;}#sk-container-id-4 div.sk-toggleable__content pre {margin: 0.2em;color: black;border-radius: 0.25em;background-color: #f0f8ff;}#sk-container-id-4 input.sk-toggleable__control:checked~div.sk-toggleable__content {max-height: 200px;max-width: 100%;overflow: auto;}#sk-container-id-4 input.sk-toggleable__control:checked~label.sk-toggleable__label-arrow:before {content: \"▾\";}#sk-container-id-4 div.sk-estimator input.sk-toggleable__control:checked~label.sk-toggleable__label {background-color: #d4ebff;}#sk-container-id-4 div.sk-label input.sk-toggleable__control:checked~label.sk-toggleable__label {background-color: #d4ebff;}#sk-container-id-4 input.sk-hidden--visually {border: 0;clip: rect(1px 1px 1px 1px);clip: rect(1px, 1px, 1px, 1px);height: 1px;margin: -1px;overflow: hidden;padding: 0;position: absolute;width: 1px;}#sk-container-id-4 div.sk-estimator {font-family: monospace;background-color: #f0f8ff;border: 1px dotted black;border-radius: 0.25em;box-sizing: border-box;margin-bottom: 0.5em;}#sk-container-id-4 div.sk-estimator:hover {background-color: #d4ebff;}#sk-container-id-4 div.sk-parallel-item::after {content: \"\";width: 100%;border-bottom: 1px solid gray;flex-grow: 1;}#sk-container-id-4 div.sk-label:hover label.sk-toggleable__label {background-color: #d4ebff;}#sk-container-id-4 div.sk-serial::before {content: \"\";position: absolute;border-left: 1px solid gray;box-sizing: border-box;top: 0;bottom: 0;left: 50%;z-index: 0;}#sk-container-id-4 div.sk-serial {display: flex;flex-direction: column;align-items: center;background-color: white;padding-right: 0.2em;padding-left: 0.2em;position: relative;}#sk-container-id-4 div.sk-item {position: relative;z-index: 1;}#sk-container-id-4 div.sk-parallel {display: flex;align-items: stretch;justify-content: center;background-color: white;position: relative;}#sk-container-id-4 div.sk-item::before, #sk-container-id-4 div.sk-parallel-item::before {content: \"\";position: absolute;border-left: 1px solid gray;box-sizing: border-box;top: 0;bottom: 0;left: 50%;z-index: -1;}#sk-container-id-4 div.sk-parallel-item {display: flex;flex-direction: column;z-index: 1;position: relative;background-color: white;}#sk-container-id-4 div.sk-parallel-item:first-child::after {align-self: flex-end;width: 50%;}#sk-container-id-4 div.sk-parallel-item:last-child::after {align-self: flex-start;width: 50%;}#sk-container-id-4 div.sk-parallel-item:only-child::after {width: 0;}#sk-container-id-4 div.sk-dashed-wrapped {border: 1px dashed gray;margin: 0 0.4em 0.5em 0.4em;box-sizing: border-box;padding-bottom: 0.4em;background-color: white;}#sk-container-id-4 div.sk-label label {font-family: monospace;font-weight: bold;display: inline-block;line-height: 1.2em;}#sk-container-id-4 div.sk-label-container {text-align: center;}#sk-container-id-4 div.sk-container {/* jupyter's `normalize.less` sets `[hidden] { display: none; }` but bootstrap.min.css set `[hidden] { display: none !important; }` so we also need the `!important` here to be able to override the default hidden behavior on the sphinx rendered scikit-learn.org. See: https://github.com/scikit-learn/scikit-learn/issues/21755 */display: inline-block !important;position: relative;}#sk-container-id-4 div.sk-text-repr-fallback {display: none;}</style><div id=\"sk-container-id-4\" class=\"sk-top-container\"><div class=\"sk-text-repr-fallback\"><pre>LinearRegression(fit_intercept=False, positive=True)</pre><b>In a Jupyter environment, please rerun this cell to show the HTML representation or trust the notebook. <br />On GitHub, the HTML representation is unable to render, please try loading this page with nbviewer.org.</b></div><div class=\"sk-container\" hidden><div class=\"sk-item\"><div class=\"sk-estimator sk-toggleable\"><input class=\"sk-toggleable__control sk-hidden--visually\" id=\"sk-estimator-id-4\" type=\"checkbox\" checked><label for=\"sk-estimator-id-4\" class=\"sk-toggleable__label sk-toggleable__label-arrow\">LinearRegression</label><div class=\"sk-toggleable__content\"><pre>LinearRegression(fit_intercept=False, positive=True)</pre></div></div></div></div></div>"
      ],
      "text/plain": [
       "LinearRegression(fit_intercept=False, positive=True)"
      ]
     },
     "execution_count": 77,
     "metadata": {},
     "output_type": "execute_result"
    }
   ],
   "source": [
    "%%time\n",
    "\n",
    "best_model_reg = LinearRegression(**best_params_reg)\n",
    "best_model_reg.fit(X_train_ohe, y_train)"
   ]
  },
  {
   "cell_type": "code",
   "execution_count": 78,
   "metadata": {},
   "outputs": [
    {
     "name": "stdout",
     "output_type": "stream",
     "text": [
      "RMSE = 2938.8843476996194\n",
      "CPU times: total: 156 ms\n",
      "Wall time: 93.6 ms\n"
     ]
    }
   ],
   "source": [
    "%%time\n",
    "\n",
    "predictions_reg = best_model_reg.predict(X_valid_ohe)\n",
    "rse_reg = mean_squared_error(y_valid, predictions_reg, squared=False) \n",
    "print('RMSE =', rse_reg)"
   ]
  },
  {
   "cell_type": "markdown",
   "metadata": {},
   "source": [
    "**Key Findings:**\n",
    "\n",
    "- For training, the following models were selected: CatboostRegressor, LGBMRegressor, RandomForestRegressor, LinearRegression.\n",
    "\n",
    "- The first two models used default parameters in option number one, and in the second option, some parameters were modified. All models achieved good results on the test dataset (RMSE < 2500).\n",
    "\n",
    "- The RandomForestRegressor model also performed well (RMSE < 2500).\n",
    "\n",
    "- However, the LinearRegression model could not meet the RMSE < 2500 metric."
   ]
  },
  {
   "cell_type": "markdown",
   "metadata": {},
   "source": [
    "## Analysis of Models"
   ]
  },
  {
   "cell_type": "markdown",
   "metadata": {},
   "source": [
    "### RMSE and Execution Time of Different Models"
   ]
  },
  {
   "cell_type": "code",
   "execution_count": 79,
   "metadata": {},
   "outputs": [],
   "source": [
    "model_analysis = {\n",
    "    'model': ['CatboostRegressor_1', 'CatboostRegressor_2', 'LGBMRegressor_1', 'LGBMRegressor_2', \n",
    "              'RandomForestRegressor', 'LinearRegression'],\n",
    "    'RMSE': [rse_catboost, rse_catboost_2, rse_lgb, rse_lgb_2, rse_forest, rse_reg],\n",
    "    'wall_time': ['1min 57s', '1min 55s', '2.39 s', '1.72 s', '2min', '2.6 s']\n",
    "}\n",
    "\n",
    "model_analysis = pd.DataFrame(model_analysis)"
   ]
  },
  {
   "cell_type": "code",
   "execution_count": 80,
   "metadata": {},
   "outputs": [],
   "source": [
    "model_analysis['condition_lower_2500'] = model_analysis['RMSE'] < 2500"
   ]
  },
  {
   "cell_type": "code",
   "execution_count": 81,
   "metadata": {},
   "outputs": [],
   "source": [
    "model_analysis['wall_time'] = pd.to_timedelta(model_analysis['wall_time'])"
   ]
  },
  {
   "cell_type": "code",
   "execution_count": 82,
   "metadata": {},
   "outputs": [],
   "source": [
    "model_analysis['wall_time_sec'] = model_analysis['wall_time'].dt.total_seconds()"
   ]
  },
  {
   "cell_type": "code",
   "execution_count": 83,
   "metadata": {},
   "outputs": [
    {
     "data": {
      "text/html": [
       "<div>\n",
       "<style scoped>\n",
       "    .dataframe tbody tr th:only-of-type {\n",
       "        vertical-align: middle;\n",
       "    }\n",
       "\n",
       "    .dataframe tbody tr th {\n",
       "        vertical-align: top;\n",
       "    }\n",
       "\n",
       "    .dataframe thead th {\n",
       "        text-align: right;\n",
       "    }\n",
       "</style>\n",
       "<table border=\"1\" class=\"dataframe\">\n",
       "  <thead>\n",
       "    <tr style=\"text-align: right;\">\n",
       "      <th></th>\n",
       "      <th>model</th>\n",
       "      <th>RMSE</th>\n",
       "      <th>condition_lower_2500</th>\n",
       "      <th>wall_time_sec</th>\n",
       "    </tr>\n",
       "  </thead>\n",
       "  <tbody>\n",
       "    <tr>\n",
       "      <th>0</th>\n",
       "      <td>CatboostRegressor_1</td>\n",
       "      <td>1593.144526</td>\n",
       "      <td>True</td>\n",
       "      <td>117.00</td>\n",
       "    </tr>\n",
       "    <tr>\n",
       "      <th>1</th>\n",
       "      <td>CatboostRegressor_2</td>\n",
       "      <td>1621.130283</td>\n",
       "      <td>True</td>\n",
       "      <td>115.00</td>\n",
       "    </tr>\n",
       "    <tr>\n",
       "      <th>2</th>\n",
       "      <td>LGBMRegressor_1</td>\n",
       "      <td>1628.739588</td>\n",
       "      <td>True</td>\n",
       "      <td>2.39</td>\n",
       "    </tr>\n",
       "    <tr>\n",
       "      <th>3</th>\n",
       "      <td>LGBMRegressor_2</td>\n",
       "      <td>1731.473776</td>\n",
       "      <td>True</td>\n",
       "      <td>1.72</td>\n",
       "    </tr>\n",
       "    <tr>\n",
       "      <th>4</th>\n",
       "      <td>RandomForestRegressor</td>\n",
       "      <td>1901.181687</td>\n",
       "      <td>True</td>\n",
       "      <td>120.00</td>\n",
       "    </tr>\n",
       "    <tr>\n",
       "      <th>5</th>\n",
       "      <td>LinearRegression</td>\n",
       "      <td>2938.884348</td>\n",
       "      <td>False</td>\n",
       "      <td>2.60</td>\n",
       "    </tr>\n",
       "  </tbody>\n",
       "</table>\n",
       "</div>"
      ],
      "text/plain": [
       "                   model         RMSE  condition_lower_2500  wall_time_sec\n",
       "0    CatboostRegressor_1  1593.144526                  True         117.00\n",
       "1    CatboostRegressor_2  1621.130283                  True         115.00\n",
       "2        LGBMRegressor_1  1628.739588                  True           2.39\n",
       "3        LGBMRegressor_2  1731.473776                  True           1.72\n",
       "4  RandomForestRegressor  1901.181687                  True         120.00\n",
       "5       LinearRegression  2938.884348                 False           2.60"
      ]
     },
     "execution_count": 83,
     "metadata": {},
     "output_type": "execute_result"
    }
   ],
   "source": [
    "model_analysis.drop(columns=['wall_time'])"
   ]
  },
  {
   "cell_type": "code",
   "execution_count": 84,
   "metadata": {},
   "outputs": [
    {
     "name": "stdout",
     "output_type": "stream",
     "text": [
      "Couldn't find program: 'echo'\n"
     ]
    }
   ],
   "source": [
    "%%script echo skipping\n",
    "\n",
    "def condition(x):\n",
    "    if x < 2500:\n",
    "        return 'The condition of achieving RMSE less than 2500 has been met! Success!'\n",
    "    return 'The condition of achieving RMSE less than 2500 has not been met! The model is not suitable.'"
   ]
  },
  {
   "cell_type": "code",
   "execution_count": 85,
   "metadata": {},
   "outputs": [
    {
     "name": "stdout",
     "output_type": "stream",
     "text": [
      "Couldn't find program: 'echo'\n"
     ]
    }
   ],
   "source": [
    "%%script echo skipping\n",
    "\n",
    "print('RMSE CatboostRegressor_1 =', rse_catboost)\n",
    "print(condition(rse_catboost))\n",
    "print('Wall time CatboostRegressor_1:   1min 57s')\n",
    "print()\n",
    "print('RMSE CatboostRegressor_2 =', rse_catboost_2)\n",
    "print(condition(rse_catboost_2))\n",
    "print('Wall time RMSE CatboostRegressor_2:   1min 55s')\n",
    "print()\n",
    "print('RMSE LGBMRegressor_1 =', rse_lgb)\n",
    "print(condition(rse_lgb))\n",
    "print('Wall time RMSE LGBMRegressor_1:   2.39 s')\n",
    "print()\n",
    "print('RMSE LGBMRegressor_2 =', rse_lgb_2)\n",
    "print(condition(rse_lgb_2))\n",
    "print('Wall time RMSE LGBMRegressor_2:   1.72 s')\n",
    "print()\n",
    "print('RMSE RandomForestRegressor =', rse_forest)\n",
    "print(condition(rse_forest))\n",
    "print('Wall time RandomForestRegressor:   2min')\n",
    "print()\n",
    "print('RMSE LinearRegression =', rse_reg)\n",
    "print(condition(rse_reg))\n",
    "print('Wall time LinearRegression:   2.6 s')"
   ]
  },
  {
   "cell_type": "markdown",
   "metadata": {},
   "source": [
    "**Key Insights from Model Analysis:**\n",
    "\n",
    "- The most effective model in terms of achieving the best RMSE score (RMSE = 1593) was the CatboostRegressor with default parameters.\n",
    "\n",
    "- Another model that meets the RMSE criterion (RMSE = 1628.73) and provides fast results within a few seconds is the LGBMRegressor with default parameters.\n",
    "\n",
    "- All models demonstrate fast prediction speeds, taking less than a second for predictions."
   ]
  },
  {
   "cell_type": "markdown",
   "metadata": {},
   "source": [
    "**To test on the test dataset, we will evaluate the CatboostRegressor_1 and LGBMRegressor_1 models. The first model achieved the highest accuracy, while the second one, although slightly less accurate, produced results in significantly less time**"
   ]
  },
  {
   "cell_type": "code",
   "execution_count": 86,
   "metadata": {},
   "outputs": [
    {
     "name": "stdout",
     "output_type": "stream",
     "text": [
      "RMSE CatboostRegressor на тестовой выборке = 1587.0576228148445\n",
      "RMSE LGBMRegressor на тестовой выборке = 1614.4416350729812\n"
     ]
    }
   ],
   "source": [
    "predictions_catboost = model_cbr.predict(X_test)\n",
    "rse_catboost = mean_squared_error(y_test, predictions_catboost, squared=False) \n",
    "print('RMSE CatboostRegressor на тестовой выборке =', rse_catboost)\n",
    "\n",
    "predictions_lgb = model_lgb_noparam.predict(X_test)\n",
    "rse_lgb = mean_squared_error(y_test, predictions_lgb, squared=False) \n",
    "print('RMSE LGBMRegressor на тестовой выборке =', rse_lgb)"
   ]
  },
  {
   "cell_type": "markdown",
   "metadata": {},
   "source": [
    "**Both models can be recommended, as predictions in both cases meet the customer's requirement for the RMSE metric. However, it's worth noting that the first model takes significantly longer to train compared to the second one.**"
   ]
  },
  {
   "cell_type": "markdown",
   "metadata": {},
   "source": [
    "### Conclusion"
   ]
  },
  {
   "cell_type": "markdown",
   "metadata": {},
   "source": [
    "**Task**\n",
    "\n",
    "A used car sales service, \"No Accidents, No Paint,\" is developing an application to attract new customers. In this application, users can quickly determine the market value of their cars. You have historical data available: technical specifications, configurations, and prices of cars. Your task is to build a model for determining the price.\n",
    "\n",
    "The customer's priorities are:\n",
    "\n",
    "- Prediction quality\n",
    "- Prediction speed\n",
    "- Training time\n",
    "\n",
    "**Results of Data Analysis and Preprocessing:**\n",
    "\n",
    "- Missing values were detected in the columns 'VehicleType,' 'Gearbox,' 'Model,' 'FuelType,' and 'Repaired.'\n",
    "- All column names were converted to lowercase with underscores.\n",
    "- The columns 'postal_code,' 'last_seen,' 'date_crawled,' and 'date_created' were deleted as they are not relevant for model building. 'number_of_pictures' was also removed as it had no data.\n",
    "- High correlation was found between the columns 'brand' and 'model,' as well as 'model' and 'vehicle_type.' Missing values in these columns were filled with the mode.\n",
    "- In the 'brand' column, there were missing values filled with the string 'sonstige_autos,' which corresponds to NaN values in the 'model' column. Consequently, rows with no brand or model information were removed from the overall dataset.\n",
    "- Outliers were identified in the 'registration_year' and 'power' columns. These outliers included unusual or incorrect data, such as cars with power ratings of 0 or exceeding 500-700 horsepower, or registration years earlier than 1970 or later than 2016. These outliers were removed.\n",
    "- The 'repaired' column was challenging to fill using statistical methods, so missing values were replaced with 'unknown.'\n",
    "- The 'gearbox' and 'fuel_type' columns were filled with 'other' and 'unknown' values.\n",
    "\n",
    "**Model Training and Results:**\n",
    "\n",
    "- The following models were selected for training: CatboostRegressor, LGBMRegressor, RandomForestRegressor, LinearRegression.\n",
    "- The first two models used default parameters in option number one, and in the second option, some parameters were modified. All models achieved good results on the test dataset (RMSE < 2500).\n",
    "- The RandomForestRegressor model also performed well (RMSE < 2500).\n",
    "- However, the LinearRegression model could not meet the RMSE < 2500 metric.\n",
    "\n",
    "**Key Insights from Model Analysis:**\n",
    "\n",
    "- The most effective model in terms of achieving the best RMSE score (RMSE = 1593) was the CatboostRegressor with default parameters.\n",
    "- Another model that meets the RMSE criterion (RMSE = 1628.73) and provides fast results within a few seconds is the LGBMRegressor with default parameters.\n",
    "- All models demonstrate fast prediction speeds, taking less than a second for predictions.\n",
    "\n",
    "**Testing on the Test Dataset:**\n",
    "\n",
    "To test on the test dataset, we will evaluate the CatboostRegressor_1 and LGBMRegressor_1 models. The first model achieved the highest accuracy, while the second one, although slightly less accurate, produced results in significantly less time.\n",
    "\n",
    "**Recommendation to the Customer:**\n",
    "\n",
    "Both models can be recommended, as predictions in both cases meet the customer's requirement for the RMSE metric. However, it's worth noting that the first model takes significantly longer to train compared to the second one.\n"
   ]
  },
  {
   "cell_type": "code",
   "execution_count": null,
   "metadata": {},
   "outputs": [],
   "source": []
  }
 ],
 "metadata": {
  "ExecuteTimeLog": [
   {
    "duration": 8,
    "start_time": "2023-04-29T15:23:17.507Z"
   },
   {
    "duration": 2534,
    "start_time": "2023-04-29T15:23:17.548Z"
   },
   {
    "duration": 0,
    "start_time": "2023-04-29T15:23:20.143Z"
   },
   {
    "duration": 0,
    "start_time": "2023-04-29T15:23:20.154Z"
   },
   {
    "duration": 0,
    "start_time": "2023-04-29T15:23:20.158Z"
   },
   {
    "duration": 0,
    "start_time": "2023-04-29T15:23:20.171Z"
   },
   {
    "duration": 1,
    "start_time": "2023-04-29T15:23:20.181Z"
   },
   {
    "duration": 0,
    "start_time": "2023-04-29T15:23:20.188Z"
   },
   {
    "duration": 0,
    "start_time": "2023-04-29T15:23:20.251Z"
   },
   {
    "duration": 0,
    "start_time": "2023-04-29T15:23:20.266Z"
   },
   {
    "duration": 0,
    "start_time": "2023-04-29T15:23:20.281Z"
   },
   {
    "duration": 0,
    "start_time": "2023-04-29T15:23:20.296Z"
   },
   {
    "duration": 0,
    "start_time": "2023-04-29T15:23:20.298Z"
   },
   {
    "duration": 0,
    "start_time": "2023-04-29T15:23:20.300Z"
   },
   {
    "duration": 0,
    "start_time": "2023-04-29T15:23:20.304Z"
   },
   {
    "duration": 0,
    "start_time": "2023-04-29T15:23:20.361Z"
   },
   {
    "duration": 1,
    "start_time": "2023-04-29T15:23:20.385Z"
   },
   {
    "duration": 0,
    "start_time": "2023-04-29T15:23:20.395Z"
   },
   {
    "duration": 0,
    "start_time": "2023-04-29T15:23:20.404Z"
   },
   {
    "duration": 0,
    "start_time": "2023-04-29T15:23:20.406Z"
   },
   {
    "duration": 0,
    "start_time": "2023-04-29T15:23:20.408Z"
   },
   {
    "duration": 0,
    "start_time": "2023-04-29T15:23:20.440Z"
   },
   {
    "duration": 0,
    "start_time": "2023-04-29T15:23:20.443Z"
   },
   {
    "duration": 0,
    "start_time": "2023-04-29T15:23:20.458Z"
   },
   {
    "duration": 0,
    "start_time": "2023-04-29T15:23:20.460Z"
   },
   {
    "duration": 0,
    "start_time": "2023-04-29T15:23:20.478Z"
   },
   {
    "duration": 0,
    "start_time": "2023-04-29T15:23:20.480Z"
   },
   {
    "duration": 0,
    "start_time": "2023-04-29T15:23:20.491Z"
   },
   {
    "duration": 0,
    "start_time": "2023-04-29T15:23:20.496Z"
   },
   {
    "duration": 0,
    "start_time": "2023-04-29T15:23:20.498Z"
   },
   {
    "duration": 0,
    "start_time": "2023-04-29T15:23:20.544Z"
   },
   {
    "duration": 0,
    "start_time": "2023-04-29T15:23:20.570Z"
   },
   {
    "duration": 0,
    "start_time": "2023-04-29T15:23:20.572Z"
   },
   {
    "duration": 0,
    "start_time": "2023-04-29T15:23:20.605Z"
   },
   {
    "duration": 0,
    "start_time": "2023-04-29T15:23:20.646Z"
   },
   {
    "duration": 0,
    "start_time": "2023-04-29T15:23:20.658Z"
   },
   {
    "duration": 0,
    "start_time": "2023-04-29T15:23:20.660Z"
   },
   {
    "duration": 0,
    "start_time": "2023-04-29T15:23:20.673Z"
   },
   {
    "duration": 0,
    "start_time": "2023-04-29T15:23:20.675Z"
   },
   {
    "duration": 0,
    "start_time": "2023-04-29T15:23:20.682Z"
   },
   {
    "duration": 0,
    "start_time": "2023-04-29T15:23:20.684Z"
   },
   {
    "duration": 0,
    "start_time": "2023-04-29T15:23:20.694Z"
   },
   {
    "duration": 0,
    "start_time": "2023-04-29T15:23:20.698Z"
   },
   {
    "duration": 0,
    "start_time": "2023-04-29T15:23:20.758Z"
   },
   {
    "duration": 0,
    "start_time": "2023-04-29T15:23:20.766Z"
   },
   {
    "duration": 0,
    "start_time": "2023-04-29T15:23:20.789Z"
   },
   {
    "duration": 0,
    "start_time": "2023-04-29T15:23:20.791Z"
   },
   {
    "duration": 0,
    "start_time": "2023-04-29T15:23:20.799Z"
   },
   {
    "duration": 0,
    "start_time": "2023-04-29T15:23:20.845Z"
   },
   {
    "duration": 0,
    "start_time": "2023-04-29T15:23:20.847Z"
   },
   {
    "duration": 0,
    "start_time": "2023-04-29T15:23:20.849Z"
   },
   {
    "duration": 0,
    "start_time": "2023-04-29T15:23:20.879Z"
   },
   {
    "duration": 0,
    "start_time": "2023-04-29T15:23:20.893Z"
   },
   {
    "duration": 0,
    "start_time": "2023-04-29T15:23:20.895Z"
   },
   {
    "duration": 0,
    "start_time": "2023-04-29T15:23:20.909Z"
   },
   {
    "duration": 0,
    "start_time": "2023-04-29T15:23:20.958Z"
   },
   {
    "duration": 0,
    "start_time": "2023-04-29T15:23:20.966Z"
   },
   {
    "duration": 0,
    "start_time": "2023-04-29T15:23:20.968Z"
   },
   {
    "duration": 0,
    "start_time": "2023-04-29T15:23:20.995Z"
   },
   {
    "duration": 0,
    "start_time": "2023-04-29T15:23:21.002Z"
   },
   {
    "duration": 0,
    "start_time": "2023-04-29T15:23:21.006Z"
   },
   {
    "duration": 0,
    "start_time": "2023-04-29T15:23:21.008Z"
   },
   {
    "duration": 0,
    "start_time": "2023-04-29T15:23:21.012Z"
   },
   {
    "duration": 0,
    "start_time": "2023-04-29T15:23:21.014Z"
   },
   {
    "duration": 1,
    "start_time": "2023-04-29T15:23:21.052Z"
   },
   {
    "duration": 1,
    "start_time": "2023-04-29T15:23:21.083Z"
   },
   {
    "duration": 0,
    "start_time": "2023-04-29T15:23:21.104Z"
   },
   {
    "duration": 0,
    "start_time": "2023-04-29T15:23:21.117Z"
   },
   {
    "duration": 0,
    "start_time": "2023-04-29T15:23:21.119Z"
   },
   {
    "duration": 0,
    "start_time": "2023-04-29T15:23:21.120Z"
   },
   {
    "duration": 0,
    "start_time": "2023-04-29T15:23:21.149Z"
   },
   {
    "duration": 0,
    "start_time": "2023-04-29T15:23:21.150Z"
   },
   {
    "duration": 0,
    "start_time": "2023-04-29T15:23:21.155Z"
   },
   {
    "duration": 0,
    "start_time": "2023-04-29T15:23:21.175Z"
   },
   {
    "duration": 0,
    "start_time": "2023-04-29T15:23:21.176Z"
   },
   {
    "duration": 1,
    "start_time": "2023-04-29T15:23:21.188Z"
   },
   {
    "duration": 0,
    "start_time": "2023-04-29T15:23:21.191Z"
   },
   {
    "duration": 14697,
    "start_time": "2023-04-29T15:23:43.007Z"
   },
   {
    "duration": 8102,
    "start_time": "2023-04-29T15:23:57.756Z"
   },
   {
    "duration": 27,
    "start_time": "2023-04-29T15:24:05.870Z"
   },
   {
    "duration": 5728,
    "start_time": "2023-04-29T15:24:05.914Z"
   },
   {
    "duration": 57,
    "start_time": "2023-04-29T15:24:11.660Z"
   },
   {
    "duration": 6254,
    "start_time": "2023-04-29T15:24:11.723Z"
   },
   {
    "duration": 3780,
    "start_time": "2023-04-29T15:24:18.009Z"
   },
   {
    "duration": 351,
    "start_time": "2023-04-29T15:24:21.802Z"
   },
   {
    "duration": 88,
    "start_time": "2023-04-29T15:24:22.201Z"
   },
   {
    "duration": 254,
    "start_time": "2023-04-29T15:24:22.311Z"
   },
   {
    "duration": 185,
    "start_time": "2023-04-29T15:24:22.576Z"
   },
   {
    "duration": 96,
    "start_time": "2023-04-29T15:24:22.791Z"
   },
   {
    "duration": 173,
    "start_time": "2023-04-29T15:24:22.918Z"
   },
   {
    "duration": 37347,
    "start_time": "2023-04-29T15:24:23.149Z"
   },
   {
    "duration": 1398,
    "start_time": "2023-04-29T15:25:00.499Z"
   },
   {
    "duration": 48,
    "start_time": "2023-04-29T15:25:01.914Z"
   },
   {
    "duration": 1617,
    "start_time": "2023-04-29T15:25:01.981Z"
   },
   {
    "duration": 7,
    "start_time": "2023-04-29T15:25:03.618Z"
   },
   {
    "duration": 13078,
    "start_time": "2023-04-29T15:25:03.631Z"
   },
   {
    "duration": 12312,
    "start_time": "2023-04-29T15:25:16.769Z"
   },
   {
    "duration": 2672,
    "start_time": "2023-04-29T15:25:29.097Z"
   },
   {
    "duration": 2062,
    "start_time": "2023-04-29T15:25:31.785Z"
   },
   {
    "duration": 44,
    "start_time": "2023-04-29T15:25:33.849Z"
   },
   {
    "duration": 114,
    "start_time": "2023-04-29T15:25:33.946Z"
   },
   {
    "duration": 169,
    "start_time": "2023-04-29T15:25:34.076Z"
   },
   {
    "duration": 151,
    "start_time": "2023-04-29T15:25:34.248Z"
   },
   {
    "duration": 79,
    "start_time": "2023-04-29T15:25:34.464Z"
   },
   {
    "duration": 695,
    "start_time": "2023-04-29T15:25:34.554Z"
   },
   {
    "duration": 241,
    "start_time": "2023-04-29T15:25:35.260Z"
   },
   {
    "duration": 234,
    "start_time": "2023-04-29T15:25:35.513Z"
   },
   {
    "duration": 135,
    "start_time": "2023-04-29T15:25:35.769Z"
   },
   {
    "duration": 346,
    "start_time": "2023-04-29T15:25:35.963Z"
   },
   {
    "duration": 71,
    "start_time": "2023-04-29T15:25:36.346Z"
   },
   {
    "duration": 194,
    "start_time": "2023-04-29T15:25:36.430Z"
   },
   {
    "duration": 535,
    "start_time": "2023-04-29T15:25:36.690Z"
   },
   {
    "duration": 1075,
    "start_time": "2023-04-29T15:25:37.248Z"
   },
   {
    "duration": 20,
    "start_time": "2023-04-29T15:25:38.352Z"
   },
   {
    "duration": 250,
    "start_time": "2023-04-29T15:25:38.423Z"
   },
   {
    "duration": 800,
    "start_time": "2023-04-29T15:25:38.688Z"
   },
   {
    "duration": 166,
    "start_time": "2023-04-29T15:25:39.514Z"
   },
   {
    "duration": 655,
    "start_time": "2023-04-29T15:25:39.750Z"
   },
   {
    "duration": 388,
    "start_time": "2023-04-29T15:25:40.417Z"
   },
   {
    "duration": 70,
    "start_time": "2023-04-29T15:25:40.815Z"
   },
   {
    "duration": 169,
    "start_time": "2023-04-29T15:25:40.973Z"
   },
   {
    "duration": 92,
    "start_time": "2023-04-29T15:25:41.156Z"
   },
   {
    "duration": 96,
    "start_time": "2023-04-29T15:25:41.268Z"
   },
   {
    "duration": 104,
    "start_time": "2023-04-29T15:25:41.389Z"
   },
   {
    "duration": 225,
    "start_time": "2023-04-29T15:25:41.506Z"
   },
   {
    "duration": 445,
    "start_time": "2023-04-29T15:25:41.747Z"
   },
   {
    "duration": 93,
    "start_time": "2023-04-29T15:25:42.199Z"
   },
   {
    "duration": 97,
    "start_time": "2023-04-29T15:25:42.305Z"
   },
   {
    "duration": 208,
    "start_time": "2023-04-29T15:25:42.405Z"
   },
   {
    "duration": 76,
    "start_time": "2023-04-29T15:25:42.623Z"
   },
   {
    "duration": 1391252,
    "start_time": "2023-04-29T15:25:42.701Z"
   },
   {
    "duration": 117,
    "start_time": "2023-04-29T15:48:53.956Z"
   },
   {
    "duration": 5080,
    "start_time": "2023-04-29T15:48:54.093Z"
   },
   {
    "duration": 52,
    "start_time": "2023-04-29T15:48:59.193Z"
   },
   {
    "duration": 112,
    "start_time": "2023-04-29T15:48:59.267Z"
   },
   {
    "duration": 2476,
    "start_time": "2023-05-04T05:58:33.914Z"
   },
   {
    "duration": 1608,
    "start_time": "2023-05-04T05:58:36.392Z"
   },
   {
    "duration": 3,
    "start_time": "2023-05-04T05:58:38.001Z"
   },
   {
    "duration": 793,
    "start_time": "2023-05-04T05:58:38.006Z"
   },
   {
    "duration": 5,
    "start_time": "2023-05-04T05:58:38.800Z"
   },
   {
    "duration": 768,
    "start_time": "2023-05-04T05:58:38.806Z"
   },
   {
    "duration": 423,
    "start_time": "2023-05-04T05:58:39.575Z"
   },
   {
    "duration": 56,
    "start_time": "2023-05-04T05:58:39.999Z"
   },
   {
    "duration": 7,
    "start_time": "2023-05-04T05:58:40.057Z"
   },
   {
    "duration": 64,
    "start_time": "2023-05-04T05:58:40.068Z"
   },
   {
    "duration": 34,
    "start_time": "2023-05-04T05:58:40.135Z"
   },
   {
    "duration": 6,
    "start_time": "2023-05-04T05:58:40.170Z"
   },
   {
    "duration": 39,
    "start_time": "2023-05-04T05:58:40.177Z"
   },
   {
    "duration": 5167,
    "start_time": "2023-05-04T05:58:40.217Z"
   },
   {
    "duration": 225,
    "start_time": "2023-05-04T05:58:45.385Z"
   },
   {
    "duration": 3,
    "start_time": "2023-05-04T05:58:45.611Z"
   },
   {
    "duration": 187,
    "start_time": "2023-05-04T05:58:45.615Z"
   },
   {
    "duration": 3,
    "start_time": "2023-05-04T05:58:45.804Z"
   },
   {
    "duration": 2472,
    "start_time": "2023-05-04T05:58:45.809Z"
   },
   {
    "duration": 2175,
    "start_time": "2023-05-04T05:58:48.283Z"
   },
   {
    "duration": 562,
    "start_time": "2023-05-04T05:58:50.459Z"
   },
   {
    "duration": 389,
    "start_time": "2023-05-04T05:58:51.022Z"
   },
   {
    "duration": 6,
    "start_time": "2023-05-04T05:58:51.413Z"
   },
   {
    "duration": 19,
    "start_time": "2023-05-04T05:58:51.421Z"
   },
   {
    "duration": 13,
    "start_time": "2023-05-04T05:58:51.442Z"
   },
   {
    "duration": 7,
    "start_time": "2023-05-04T05:58:51.457Z"
   },
   {
    "duration": 5,
    "start_time": "2023-05-04T05:58:51.466Z"
   },
   {
    "duration": 60,
    "start_time": "2023-05-04T05:58:51.499Z"
   },
   {
    "duration": 67,
    "start_time": "2023-05-04T05:58:51.561Z"
   },
   {
    "duration": 59,
    "start_time": "2023-05-04T05:58:51.630Z"
   },
   {
    "duration": 9,
    "start_time": "2023-05-04T05:58:51.694Z"
   },
   {
    "duration": 62,
    "start_time": "2023-05-04T05:58:51.704Z"
   },
   {
    "duration": 27,
    "start_time": "2023-05-04T05:58:51.768Z"
   },
   {
    "duration": 71,
    "start_time": "2023-05-04T05:58:51.797Z"
   },
   {
    "duration": 4,
    "start_time": "2023-05-04T05:58:51.870Z"
   },
   {
    "duration": 22,
    "start_time": "2023-05-04T05:58:51.875Z"
   },
   {
    "duration": 68,
    "start_time": "2023-05-04T05:58:51.899Z"
   },
   {
    "duration": 125,
    "start_time": "2023-05-04T05:58:51.969Z"
   },
   {
    "duration": 2,
    "start_time": "2023-05-04T05:58:52.096Z"
   },
   {
    "duration": 50,
    "start_time": "2023-05-04T05:58:52.099Z"
   },
   {
    "duration": 106,
    "start_time": "2023-05-04T05:58:52.150Z"
   },
   {
    "duration": 13,
    "start_time": "2023-05-04T05:58:52.258Z"
   },
   {
    "duration": 101,
    "start_time": "2023-05-04T05:58:52.272Z"
   },
   {
    "duration": 44,
    "start_time": "2023-05-04T05:58:52.375Z"
   },
   {
    "duration": 13,
    "start_time": "2023-05-04T05:58:52.420Z"
   },
   {
    "duration": 19,
    "start_time": "2023-05-04T05:58:52.435Z"
   },
   {
    "duration": 16,
    "start_time": "2023-05-04T05:58:52.455Z"
   },
   {
    "duration": 36,
    "start_time": "2023-05-04T05:58:52.473Z"
   },
   {
    "duration": 16,
    "start_time": "2023-05-04T05:58:52.510Z"
   },
   {
    "duration": 24,
    "start_time": "2023-05-04T05:58:52.527Z"
   },
   {
    "duration": 84,
    "start_time": "2023-05-04T05:58:52.553Z"
   },
   {
    "duration": 6,
    "start_time": "2023-05-04T05:58:52.639Z"
   },
   {
    "duration": 7,
    "start_time": "2023-05-04T05:58:52.648Z"
   },
   {
    "duration": 4,
    "start_time": "2023-05-04T05:58:52.657Z"
   },
   {
    "duration": 4,
    "start_time": "2023-05-04T05:58:52.663Z"
   },
   {
    "duration": 242110,
    "start_time": "2023-05-04T05:58:52.668Z"
   },
   {
    "duration": 14,
    "start_time": "2023-05-04T06:02:54.780Z"
   },
   {
    "duration": 675,
    "start_time": "2023-05-04T06:02:54.796Z"
   },
   {
    "duration": 2,
    "start_time": "2023-05-04T06:02:55.472Z"
   },
   {
    "duration": 17,
    "start_time": "2023-05-04T06:02:55.476Z"
   },
   {
    "duration": 241588,
    "start_time": "2023-05-04T06:02:55.494Z"
   },
   {
    "duration": 858,
    "start_time": "2023-05-04T06:06:57.084Z"
   },
   {
    "duration": 182,
    "start_time": "2023-05-04T06:06:57.944Z"
   },
   {
    "duration": 72724,
    "start_time": "2023-05-04T06:06:58.128Z"
   },
   {
    "duration": 169,
    "start_time": "2023-05-04T06:08:10.854Z"
   },
   {
    "duration": 2,
    "start_time": "2023-05-04T06:08:11.025Z"
   },
   {
    "duration": 3284,
    "start_time": "2023-05-04T06:08:11.029Z"
   },
   {
    "duration": 119,
    "start_time": "2023-05-04T06:08:14.315Z"
   }
  ],
  "kernelspec": {
   "display_name": "Python 3 (ipykernel)",
   "language": "python",
   "name": "python3"
  },
  "language_info": {
   "codemirror_mode": {
    "name": "ipython",
    "version": 3
   },
   "file_extension": ".py",
   "mimetype": "text/x-python",
   "name": "python",
   "nbconvert_exporter": "python",
   "pygments_lexer": "ipython3",
   "version": "3.9.15"
  },
  "nbTranslate": {
   "displayLangs": [],
   "hotkey": "alt-t",
   "langInMainMenu": true,
   "sourceLang": "ru",
   "targetLang": "en",
   "useGoogleTranslate": true
  },
  "toc": {
   "base_numbering": 1,
   "nav_menu": {},
   "number_sections": true,
   "sideBar": true,
   "skip_h1_title": true,
   "title_cell": "Table of Contents",
   "title_sidebar": "Contents",
   "toc_cell": false,
   "toc_position": {},
   "toc_section_display": true,
   "toc_window_display": false
  },
  "varInspector": {
   "cols": {
    "lenName": 16,
    "lenType": 16,
    "lenVar": 40
   },
   "kernels_config": {
    "python": {
     "delete_cmd_postfix": "",
     "delete_cmd_prefix": "del ",
     "library": "var_list.py",
     "varRefreshCmd": "print(var_dic_list())"
    },
    "r": {
     "delete_cmd_postfix": ") ",
     "delete_cmd_prefix": "rm(",
     "library": "var_list.r",
     "varRefreshCmd": "cat(var_dic_list()) "
    }
   },
   "types_to_exclude": [
    "module",
    "function",
    "builtin_function_or_method",
    "instance",
    "_Feature"
   ],
   "window_display": false
  }
 },
 "nbformat": 4,
 "nbformat_minor": 2
}
